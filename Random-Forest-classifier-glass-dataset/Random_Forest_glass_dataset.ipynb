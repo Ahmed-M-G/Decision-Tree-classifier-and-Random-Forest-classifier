{
  "nbformat": 4,
  "nbformat_minor": 0,
  "metadata": {
    "colab": {
      "provenance": [],
      "collapsed_sections": [
        "vWzOwLvMtGVh",
        "kw880YHFxeaO",
        "OmrR-yT91uRl",
        "qNyrG4Zj2XkM",
        "3B8tY5Su9VB5",
        "cGVPnI5m24fr",
        "NNSELg9c3LLL",
        "x1H6Tjt97uYq",
        "j8lqjI0570hx",
        "axBYFlHU9N2K"
      ]
    },
    "kernelspec": {
      "name": "python3",
      "display_name": "Python 3"
    },
    "language_info": {
      "name": "python"
    }
  },
  "cells": [
    {
      "cell_type": "markdown",
      "source": [
        "# Import Libraries"
      ],
      "metadata": {
        "id": "vWzOwLvMtGVh"
      }
    },
    {
      "cell_type": "code",
      "execution_count": 1,
      "metadata": {
        "id": "1OutYtkussnb"
      },
      "outputs": [],
      "source": [
        "# The Python package for scientific computing\n",
        "import numpy as np\n",
        "\n",
        "# A module for handling data\n",
        "import pandas as pd\n",
        "\n",
        "# Python's plotting module. \n",
        "# We improve the graphics by overriding the default matplotlib styles with those of seaborn\n",
        "import matplotlib.pyplot as plt\n",
        "import seaborn as sns\n",
        "\n",
        "# A function that would plot for us the decision regions of a problem\n",
        "from mlxtend.plotting import plot_decision_regions\n",
        "\n",
        "# A method used to split the dataset into training and testing\n",
        "from sklearn.model_selection import train_test_split\n",
        "\n",
        "# The iris dataset from the sklearn library\n",
        "from sklearn.datasets import load_iris\n",
        "\n",
        "# The RadnomForest classifier from the sklearn library\n",
        "from sklearn.ensemble import RandomForestClassifier\n",
        "\n",
        "# Metrics that would allow us to evaluate our model\n",
        "from sklearn.metrics import classification_report, ConfusionMatrixDisplay, accuracy_score, roc_curve, auc, roc_auc_score"
      ]
    },
    {
      "cell_type": "markdown",
      "source": [
        "# Load The Data"
      ],
      "metadata": {
        "id": "kw880YHFxeaO"
      }
    },
    {
      "cell_type": "code",
      "source": [
        "# load the dataset from the csv file\n",
        "data = pd.read_csv(\"glass_data.csv\")"
      ],
      "metadata": {
        "id": "bgFWJBBXtJfj"
      },
      "execution_count": 2,
      "outputs": []
    },
    {
      "cell_type": "code",
      "source": [
        "# check what is contained in the data variable\n",
        "data.head()"
      ],
      "metadata": {
        "colab": {
          "base_uri": "https://localhost:8080/",
          "height": 206
        },
        "id": "RTzpWHYSB4B_",
        "outputId": "40c7a253-44ef-45d2-c5df-b8b6f49395f5"
      },
      "execution_count": 3,
      "outputs": [
        {
          "output_type": "execute_result",
          "data": {
            "text/plain": [
              "   Id       RI     Na    Mg    Al     Si     K    Ca   Ba   Fe  Type\n",
              "0   1  1.52101  13.64  4.49  1.10  71.78  0.06  8.75  0.0  0.0     1\n",
              "1   2  1.51761  13.89  3.60  1.36  72.73  0.48  7.83  0.0  0.0     1\n",
              "2   3  1.51618  13.53  3.55  1.54  72.99  0.39  7.78  0.0  0.0     1\n",
              "3   4  1.51766  13.21  3.69  1.29  72.61  0.57  8.22  0.0  0.0     1\n",
              "4   5  1.51742  13.27  3.62  1.24  73.08  0.55  8.07  0.0  0.0     1"
            ],
            "text/html": [
              "\n",
              "  <div id=\"df-4d30942d-450b-4dc6-ac5f-bd90ada5e53c\">\n",
              "    <div class=\"colab-df-container\">\n",
              "      <div>\n",
              "<style scoped>\n",
              "    .dataframe tbody tr th:only-of-type {\n",
              "        vertical-align: middle;\n",
              "    }\n",
              "\n",
              "    .dataframe tbody tr th {\n",
              "        vertical-align: top;\n",
              "    }\n",
              "\n",
              "    .dataframe thead th {\n",
              "        text-align: right;\n",
              "    }\n",
              "</style>\n",
              "<table border=\"1\" class=\"dataframe\">\n",
              "  <thead>\n",
              "    <tr style=\"text-align: right;\">\n",
              "      <th></th>\n",
              "      <th>Id</th>\n",
              "      <th>RI</th>\n",
              "      <th>Na</th>\n",
              "      <th>Mg</th>\n",
              "      <th>Al</th>\n",
              "      <th>Si</th>\n",
              "      <th>K</th>\n",
              "      <th>Ca</th>\n",
              "      <th>Ba</th>\n",
              "      <th>Fe</th>\n",
              "      <th>Type</th>\n",
              "    </tr>\n",
              "  </thead>\n",
              "  <tbody>\n",
              "    <tr>\n",
              "      <th>0</th>\n",
              "      <td>1</td>\n",
              "      <td>1.52101</td>\n",
              "      <td>13.64</td>\n",
              "      <td>4.49</td>\n",
              "      <td>1.10</td>\n",
              "      <td>71.78</td>\n",
              "      <td>0.06</td>\n",
              "      <td>8.75</td>\n",
              "      <td>0.0</td>\n",
              "      <td>0.0</td>\n",
              "      <td>1</td>\n",
              "    </tr>\n",
              "    <tr>\n",
              "      <th>1</th>\n",
              "      <td>2</td>\n",
              "      <td>1.51761</td>\n",
              "      <td>13.89</td>\n",
              "      <td>3.60</td>\n",
              "      <td>1.36</td>\n",
              "      <td>72.73</td>\n",
              "      <td>0.48</td>\n",
              "      <td>7.83</td>\n",
              "      <td>0.0</td>\n",
              "      <td>0.0</td>\n",
              "      <td>1</td>\n",
              "    </tr>\n",
              "    <tr>\n",
              "      <th>2</th>\n",
              "      <td>3</td>\n",
              "      <td>1.51618</td>\n",
              "      <td>13.53</td>\n",
              "      <td>3.55</td>\n",
              "      <td>1.54</td>\n",
              "      <td>72.99</td>\n",
              "      <td>0.39</td>\n",
              "      <td>7.78</td>\n",
              "      <td>0.0</td>\n",
              "      <td>0.0</td>\n",
              "      <td>1</td>\n",
              "    </tr>\n",
              "    <tr>\n",
              "      <th>3</th>\n",
              "      <td>4</td>\n",
              "      <td>1.51766</td>\n",
              "      <td>13.21</td>\n",
              "      <td>3.69</td>\n",
              "      <td>1.29</td>\n",
              "      <td>72.61</td>\n",
              "      <td>0.57</td>\n",
              "      <td>8.22</td>\n",
              "      <td>0.0</td>\n",
              "      <td>0.0</td>\n",
              "      <td>1</td>\n",
              "    </tr>\n",
              "    <tr>\n",
              "      <th>4</th>\n",
              "      <td>5</td>\n",
              "      <td>1.51742</td>\n",
              "      <td>13.27</td>\n",
              "      <td>3.62</td>\n",
              "      <td>1.24</td>\n",
              "      <td>73.08</td>\n",
              "      <td>0.55</td>\n",
              "      <td>8.07</td>\n",
              "      <td>0.0</td>\n",
              "      <td>0.0</td>\n",
              "      <td>1</td>\n",
              "    </tr>\n",
              "  </tbody>\n",
              "</table>\n",
              "</div>\n",
              "      <button class=\"colab-df-convert\" onclick=\"convertToInteractive('df-4d30942d-450b-4dc6-ac5f-bd90ada5e53c')\"\n",
              "              title=\"Convert this dataframe to an interactive table.\"\n",
              "              style=\"display:none;\">\n",
              "        \n",
              "  <svg xmlns=\"http://www.w3.org/2000/svg\" height=\"24px\"viewBox=\"0 0 24 24\"\n",
              "       width=\"24px\">\n",
              "    <path d=\"M0 0h24v24H0V0z\" fill=\"none\"/>\n",
              "    <path d=\"M18.56 5.44l.94 2.06.94-2.06 2.06-.94-2.06-.94-.94-2.06-.94 2.06-2.06.94zm-11 1L8.5 8.5l.94-2.06 2.06-.94-2.06-.94L8.5 2.5l-.94 2.06-2.06.94zm10 10l.94 2.06.94-2.06 2.06-.94-2.06-.94-.94-2.06-.94 2.06-2.06.94z\"/><path d=\"M17.41 7.96l-1.37-1.37c-.4-.4-.92-.59-1.43-.59-.52 0-1.04.2-1.43.59L10.3 9.45l-7.72 7.72c-.78.78-.78 2.05 0 2.83L4 21.41c.39.39.9.59 1.41.59.51 0 1.02-.2 1.41-.59l7.78-7.78 2.81-2.81c.8-.78.8-2.07 0-2.86zM5.41 20L4 18.59l7.72-7.72 1.47 1.35L5.41 20z\"/>\n",
              "  </svg>\n",
              "      </button>\n",
              "      \n",
              "  <style>\n",
              "    .colab-df-container {\n",
              "      display:flex;\n",
              "      flex-wrap:wrap;\n",
              "      gap: 12px;\n",
              "    }\n",
              "\n",
              "    .colab-df-convert {\n",
              "      background-color: #E8F0FE;\n",
              "      border: none;\n",
              "      border-radius: 50%;\n",
              "      cursor: pointer;\n",
              "      display: none;\n",
              "      fill: #1967D2;\n",
              "      height: 32px;\n",
              "      padding: 0 0 0 0;\n",
              "      width: 32px;\n",
              "    }\n",
              "\n",
              "    .colab-df-convert:hover {\n",
              "      background-color: #E2EBFA;\n",
              "      box-shadow: 0px 1px 2px rgba(60, 64, 67, 0.3), 0px 1px 3px 1px rgba(60, 64, 67, 0.15);\n",
              "      fill: #174EA6;\n",
              "    }\n",
              "\n",
              "    [theme=dark] .colab-df-convert {\n",
              "      background-color: #3B4455;\n",
              "      fill: #D2E3FC;\n",
              "    }\n",
              "\n",
              "    [theme=dark] .colab-df-convert:hover {\n",
              "      background-color: #434B5C;\n",
              "      box-shadow: 0px 1px 3px 1px rgba(0, 0, 0, 0.15);\n",
              "      filter: drop-shadow(0px 1px 2px rgba(0, 0, 0, 0.3));\n",
              "      fill: #FFFFFF;\n",
              "    }\n",
              "  </style>\n",
              "\n",
              "      <script>\n",
              "        const buttonEl =\n",
              "          document.querySelector('#df-4d30942d-450b-4dc6-ac5f-bd90ada5e53c button.colab-df-convert');\n",
              "        buttonEl.style.display =\n",
              "          google.colab.kernel.accessAllowed ? 'block' : 'none';\n",
              "\n",
              "        async function convertToInteractive(key) {\n",
              "          const element = document.querySelector('#df-4d30942d-450b-4dc6-ac5f-bd90ada5e53c');\n",
              "          const dataTable =\n",
              "            await google.colab.kernel.invokeFunction('convertToInteractive',\n",
              "                                                     [key], {});\n",
              "          if (!dataTable) return;\n",
              "\n",
              "          const docLinkHtml = 'Like what you see? Visit the ' +\n",
              "            '<a target=\"_blank\" href=https://colab.research.google.com/notebooks/data_table.ipynb>data table notebook</a>'\n",
              "            + ' to learn more about interactive tables.';\n",
              "          element.innerHTML = '';\n",
              "          dataTable['output_type'] = 'display_data';\n",
              "          await google.colab.output.renderOutput(dataTable, element);\n",
              "          const docLink = document.createElement('div');\n",
              "          docLink.innerHTML = docLinkHtml;\n",
              "          element.appendChild(docLink);\n",
              "        }\n",
              "      </script>\n",
              "    </div>\n",
              "  </div>\n",
              "  "
            ]
          },
          "metadata": {},
          "execution_count": 3
        }
      ]
    },
    {
      "cell_type": "code",
      "source": [
        "print('Shape of the data:', data.shape,'\\n')"
      ],
      "metadata": {
        "colab": {
          "base_uri": "https://localhost:8080/"
        },
        "id": "wkQPz7pOx84o",
        "outputId": "5a5781de-017d-43c6-8b0e-fe141fdeea7f"
      },
      "execution_count": 4,
      "outputs": [
        {
          "output_type": "stream",
          "name": "stdout",
          "text": [
            "Shape of the data: (214, 11) \n",
            "\n"
          ]
        }
      ]
    },
    {
      "cell_type": "markdown",
      "source": [
        "# Data Preprocessing"
      ],
      "metadata": {
        "id": "lVF-s245FiZc"
      }
    },
    {
      "cell_type": "code",
      "source": [
        "# The first column, 'Id', is irrelevant to the model we want to train\n",
        "data = data.drop(['Id'], axis=1)"
      ],
      "metadata": {
        "id": "ngGQD4B9B9vf"
      },
      "execution_count": 5,
      "outputs": []
    },
    {
      "cell_type": "code",
      "source": [
        "data.isnull().sum()"
      ],
      "metadata": {
        "colab": {
          "base_uri": "https://localhost:8080/"
        },
        "id": "pfkpQjPrFm2V",
        "outputId": "595fcdef-1a9a-4b9a-d8d5-fc943b7ac4f4"
      },
      "execution_count": 6,
      "outputs": [
        {
          "output_type": "execute_result",
          "data": {
            "text/plain": [
              "RI      0\n",
              "Na      0\n",
              "Mg      0\n",
              "Al      0\n",
              "Si      0\n",
              "K       0\n",
              "Ca      0\n",
              "Ba      0\n",
              "Fe      0\n",
              "Type    0\n",
              "dtype: int64"
            ]
          },
          "metadata": {},
          "execution_count": 6
        }
      ]
    },
    {
      "cell_type": "code",
      "source": [
        "data.duplicated().sum()"
      ],
      "metadata": {
        "colab": {
          "base_uri": "https://localhost:8080/"
        },
        "id": "Es-oW3D1FsCk",
        "outputId": "4f4628f3-7cc8-403d-b665-6b784684be42"
      },
      "execution_count": 7,
      "outputs": [
        {
          "output_type": "execute_result",
          "data": {
            "text/plain": [
              "1"
            ]
          },
          "metadata": {},
          "execution_count": 7
        }
      ]
    },
    {
      "cell_type": "code",
      "source": [
        "data = data.drop_duplicates()"
      ],
      "metadata": {
        "id": "9r0C6Z0_F_71"
      },
      "execution_count": 8,
      "outputs": []
    },
    {
      "cell_type": "code",
      "source": [
        "data.duplicated().sum()"
      ],
      "metadata": {
        "colab": {
          "base_uri": "https://localhost:8080/"
        },
        "id": "HDtxaj6cGCr9",
        "outputId": "907ad02b-7d0e-429e-fb62-51a002e1db43"
      },
      "execution_count": 9,
      "outputs": [
        {
          "output_type": "execute_result",
          "data": {
            "text/plain": [
              "0"
            ]
          },
          "metadata": {},
          "execution_count": 9
        }
      ]
    },
    {
      "cell_type": "code",
      "source": [
        "# separate the data into the input features (everything without the last column) and the targets (the last column only)\n",
        "inputs = data.iloc[:,:-1]\n",
        "targets = data.iloc[:,-1]"
      ],
      "metadata": {
        "id": "vQtAQ7GGCAkO"
      },
      "execution_count": 10,
      "outputs": []
    },
    {
      "cell_type": "code",
      "source": [
        "print('Shape of the inputs:', inputs.shape,'\\n')\n",
        "print('Shape of the targets:', targets.shape,'\\n')"
      ],
      "metadata": {
        "colab": {
          "base_uri": "https://localhost:8080/"
        },
        "id": "WU5Ma2lnCCxm",
        "outputId": "ae961e65-82f8-4c0f-95a7-513c5682b4af"
      },
      "execution_count": 11,
      "outputs": [
        {
          "output_type": "stream",
          "name": "stdout",
          "text": [
            "Shape of the inputs: (213, 9) \n",
            "\n",
            "Shape of the targets: (213,) \n",
            "\n"
          ]
        }
      ]
    },
    {
      "cell_type": "markdown",
      "source": [
        "## Data Visualization"
      ],
      "metadata": {
        "id": "OmrR-yT91uRl"
      }
    },
    {
      "cell_type": "code",
      "source": [
        "def dist_plot(X):\n",
        "  plt.figure(figsize=(12,7))\n",
        "  sns.set(palette=\"muted\", color_codes=True)\n",
        "  first_15 = sns.barplot(x=data[X].value_counts().index, y=data[X].value_counts().values)\n",
        "  plt.xticks(rotation='0', fontsize=14, fontweight='bold')\n",
        "  plt.xlabel(X, fontsize=16, fontweight='bold')\n",
        "  plt.yticks(rotation='0', fontsize=14, fontweight='bold')\n",
        "  plt.ylabel('Count', rotation=0, ha='right', fontsize=14, fontweight='bold')\n",
        "\n",
        "  for patch in first_15.patches:\n",
        "              first_15.annotate(\"%.0f\" % patch.get_height(), (patch.get_x() + patch.get_width() / 2., patch.get_height()),\n",
        "                  ha='center', va='center', fontsize=14, fontweight='bold', color='black', xytext=(0, 5),\n",
        "                  textcoords='offset points')\n",
        "  # plt.grid()\n",
        "  plt.show()"
      ],
      "metadata": {
        "id": "uZazf4OAx_jM"
      },
      "execution_count": 12,
      "outputs": []
    },
    {
      "cell_type": "code",
      "source": [
        "dist_plot(\"Type\")"
      ],
      "metadata": {
        "colab": {
          "base_uri": "https://localhost:8080/",
          "height": 0
        },
        "id": "cOHKw8D8yW6f",
        "outputId": "5e6996ed-043d-4788-89d1-0bee90ba67de"
      },
      "execution_count": 13,
      "outputs": [
        {
          "output_type": "display_data",
          "data": {
            "text/plain": [
              "<Figure size 864x504 with 1 Axes>"
            ],
            "image/png": "[encoded data removed]"
          },
          "metadata": {
            "needs_background": "light"
          }
        }
      ]
    },
    {
      "cell_type": "markdown",
      "source": [
        "# Train test split"
      ],
      "metadata": {
        "id": "qNyrG4Zj2XkM"
      }
    },
    {
      "cell_type": "code",
      "source": [
        "x_train, x_test, y_train, y_test = train_test_split(inputs, targets, test_size=0.2, random_state=42, stratify = targets)"
      ],
      "metadata": {
        "id": "gRHZRpgfz53s"
      },
      "execution_count": 14,
      "outputs": []
    },
    {
      "cell_type": "markdown",
      "source": [
        "# The RandomForest Classifier Model"
      ],
      "metadata": {
        "id": "3B8tY5Su9VB5"
      }
    },
    {
      "cell_type": "markdown",
      "source": [
        "## Creating and Training the model"
      ],
      "metadata": {
        "id": "cGVPnI5m24fr"
      }
    },
    {
      "cell_type": "code",
      "source": [
        "# Defining the tree classifier\n",
        "clf = RandomForestClassifier(random_state=26)"
      ],
      "metadata": {
        "id": "5uqV6mDg2zLN"
      },
      "execution_count": 15,
      "outputs": []
    },
    {
      "cell_type": "code",
      "source": [
        "# Training/creating the decision tree\n",
        "clf = clf.fit(x_train, y_train)"
      ],
      "metadata": {
        "id": "ApN6hFfq26qV"
      },
      "execution_count": 16,
      "outputs": []
    },
    {
      "cell_type": "code",
      "source": [
        "#test the accuracy of model on training set\n",
        "print('D_Tree Train Score is : ' , clf.score(x_train, y_train))"
      ],
      "metadata": {
        "colab": {
          "base_uri": "https://localhost:8080/"
        },
        "id": "inb4tTg13ZTE",
        "outputId": "df674685-e4e8-4da4-83c3-ae91cafee89e"
      },
      "execution_count": 17,
      "outputs": [
        {
          "output_type": "stream",
          "name": "stdout",
          "text": [
            "D_Tree Train Score is :  1.0\n"
          ]
        }
      ]
    },
    {
      "cell_type": "markdown",
      "source": [
        "##Predicting a sample"
      ],
      "metadata": {
        "id": "NNSELg9c3LLL"
      }
    },
    {
      "cell_type": "code",
      "source": [
        "# we can now predict a class of a datapoint\n",
        "clf.predict([x_train.iloc[125]])"
      ],
      "metadata": {
        "colab": {
          "base_uri": "https://localhost:8080/"
        },
        "id": "39wpneAQ3AQX",
        "outputId": "1c562ce7-70d8-4656-a3f7-f9b7a2d713fb"
      },
      "execution_count": 18,
      "outputs": [
        {
          "output_type": "stream",
          "name": "stderr",
          "text": [
            "/usr/local/lib/python3.7/dist-packages/sklearn/base.py:451: UserWarning: X does not have valid feature names, but RandomForestClassifier was fitted with feature names\n",
            "  \"X does not have valid feature names, but\"\n"
          ]
        },
        {
          "output_type": "execute_result",
          "data": {
            "text/plain": [
              "array([7])"
            ]
          },
          "metadata": {},
          "execution_count": 18
        }
      ]
    },
    {
      "cell_type": "markdown",
      "source": [
        "## Make predictions on the test dataset"
      ],
      "metadata": {
        "id": "x1H6Tjt97uYq"
      }
    },
    {
      "cell_type": "code",
      "source": [
        "y_test_pred = clf.predict(x_test)\n",
        "print('Shape of the y_test_pred:', y_test_pred.shape)"
      ],
      "metadata": {
        "colab": {
          "base_uri": "https://localhost:8080/"
        },
        "id": "38NiY3zM7wF8",
        "outputId": "ab8cc103-0d54-404f-bc32-a03db51b9e9f"
      },
      "execution_count": 19,
      "outputs": [
        {
          "output_type": "stream",
          "name": "stdout",
          "text": [
            "Shape of the y_test_pred: (43,)\n"
          ]
        }
      ]
    },
    {
      "cell_type": "markdown",
      "source": [
        "## Construct the confusion matrix"
      ],
      "metadata": {
        "id": "j8lqjI0570hx"
      }
    },
    {
      "cell_type": "code",
      "source": [
        "sns.reset_orig()\n",
        "\n",
        "ConfusionMatrixDisplay.from_predictions(\n",
        "    y_test, y_test_pred,\n",
        "    labels = clf.classes_,\n",
        "    cmap = 'magma'\n",
        ");"
      ],
      "metadata": {
        "colab": {
          "base_uri": "https://localhost:8080/",
          "height": 0
        },
        "id": "-58-VMD-70Sx",
        "outputId": "84055d97-ab0e-4944-82ed-ac44b62cd02f"
      },
      "execution_count": 20,
      "outputs": [
        {
          "output_type": "display_data",
          "data": {
            "text/plain": [
              "<Figure size 432x288 with 2 Axes>"
            ],
            "image/png": "[encoded data removed]"
          },
          "metadata": {
            "needs_background": "light"
          }
        }
      ]
    },
    {
      "cell_type": "markdown",
      "source": [
        "## classification report"
      ],
      "metadata": {
        "id": "axBYFlHU9N2K"
      }
    },
    {
      "cell_type": "code",
      "source": [
        "print(classification_report(y_test, y_test_pred))"
      ],
      "metadata": {
        "colab": {
          "base_uri": "https://localhost:8080/"
        },
        "id": "aQu6VIUP8God",
        "outputId": "fd2a3c5b-73d2-4532-d1db-3440d28f736d"
      },
      "execution_count": 21,
      "outputs": [
        {
          "output_type": "stream",
          "name": "stdout",
          "text": [
            "              precision    recall  f1-score   support\n",
            "\n",
            "           1       0.81      0.93      0.87        14\n",
            "           2       0.86      0.80      0.83        15\n",
            "           3       1.00      0.67      0.80         3\n",
            "           5       1.00      0.67      0.80         3\n",
            "           6       0.67      1.00      0.80         2\n",
            "           7       1.00      1.00      1.00         6\n",
            "\n",
            "    accuracy                           0.86        43\n",
            "   macro avg       0.89      0.84      0.85        43\n",
            "weighted avg       0.87      0.86      0.86        43\n",
            "\n"
          ]
        }
      ]
    },
    {
      "cell_type": "code",
      "source": [],
      "metadata": {
        "id": "IYNbuCzWCfIX"
      },
      "execution_count": 21,
      "outputs": []
    }
  ]
}