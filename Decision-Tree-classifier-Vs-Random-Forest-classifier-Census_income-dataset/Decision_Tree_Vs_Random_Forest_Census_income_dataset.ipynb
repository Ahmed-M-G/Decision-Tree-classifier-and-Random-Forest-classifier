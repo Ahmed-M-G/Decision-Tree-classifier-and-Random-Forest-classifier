{
  "nbformat": 4,
  "nbformat_minor": 0,
  "metadata": {
    "colab": {
      "provenance": [],
      "collapsed_sections": [
        "vWzOwLvMtGVh",
        "kw880YHFxeaO",
        "L3q9XjU1HOyl",
        "zX0kimdrMPra",
        "OmrR-yT91uRl",
        "lVF-s245FiZc",
        "kkmzJ37RHkt0",
        "yBaxzIOfIppD",
        "MLYTwNT5J48a",
        "Ww63RfG9KN7K",
        "7aVgEUeSKvyA",
        "dZuJQepXMLXa",
        "zuhpDZzHKvyA",
        "tqItVVCvKvyB",
        "xZ-g96oMKvyB",
        "8jSPATgfKvyC",
        "4DBlwTaIKvyD",
        "ZRAZtUTMNJ9a",
        "Rc4BSOePOrgx",
        "cGVPnI5m24fr",
        "DHU1wKDN887R",
        "x1H6Tjt97uYq",
        "j8lqjI0570hx",
        "axBYFlHU9N2K",
        "eVnI6JQAOvY8",
        "SMXrlSNbOvY8",
        "TgoR7IfxOvY8",
        "ybhf5Oc3OvY9",
        "9X1W-saoOvY9",
        "mzx5u6yLOvY9",
        "4cC-eHPlPX8_",
        "q4AX5BYWPSXF",
        "Q5IhhPcvPSXF",
        "LypJPhCOPSXG",
        "HE-cpxhrQfH9",
        "W3y7t7zCQxIW",
        "clCE1MZdQxIW",
        "pbQvVA0wQxIW",
        "qp4wD31XQxIX",
        "u7rKUACnQxIX"
      ]
    },
    "kernelspec": {
      "name": "python3",
      "display_name": "Python 3"
    },
    "language_info": {
      "name": "python"
    }
  },
  "cells": [
    {
      "cell_type": "markdown",
      "source": [
        "# Import Libraries"
      ],
      "metadata": {
        "id": "vWzOwLvMtGVh"
      }
    },
    {
      "cell_type": "code",
      "execution_count": 47,
      "metadata": {
        "id": "1OutYtkussnb"
      },
      "outputs": [],
      "source": [
        "# The Python package for scientific computing\n",
        "import numpy as np\n",
        "\n",
        "# A module for handling data\n",
        "import pandas as pd\n",
        "\n",
        "# Python's plotting module. \n",
        "# We improve the graphics by overriding the default matplotlib styles with those of seaborn\n",
        "import matplotlib.pyplot as plt\n",
        "import seaborn as sns\n",
        "\n",
        "# A function that would plot for us the decision regions of a problem\n",
        "from mlxtend.plotting import plot_decision_regions\n",
        "\n",
        "# A method used to split the dataset into training and testing\n",
        "from sklearn.model_selection import train_test_split\n",
        "\n",
        "# The Decision Tree classifier from the sklearn library\n",
        "from sklearn.tree import DecisionTreeClassifier, plot_tree\n",
        "\n",
        "# The RadnomForest classifier from the sklearn library\n",
        "from sklearn.ensemble import RandomForestClassifier\n",
        "\n",
        "# Metrics that would allow us to evaluate our model\n",
        "from sklearn.metrics import classification_report, ConfusionMatrixDisplay, accuracy_score, roc_curve, auc, roc_auc_score"
      ]
    },
    {
      "cell_type": "code",
      "source": [],
      "metadata": {
        "id": "AtaCTz3gHGHs"
      },
      "execution_count": 47,
      "outputs": []
    },
    {
      "cell_type": "markdown",
      "source": [
        "# Load The Data"
      ],
      "metadata": {
        "id": "kw880YHFxeaO"
      }
    },
    {
      "cell_type": "markdown",
      "source": [
        "## Training Data"
      ],
      "metadata": {
        "id": "L3q9XjU1HOyl"
      }
    },
    {
      "cell_type": "markdown",
      "source": [
        "### Reading Training data"
      ],
      "metadata": {
        "id": "zX0kimdrMPra"
      }
    },
    {
      "cell_type": "code",
      "source": [
        "# load the dataset\n",
        "train_data = pd.read_csv(\"Census_income_train.csv\")"
      ],
      "metadata": {
        "id": "bgFWJBBXtJfj"
      },
      "execution_count": 2,
      "outputs": []
    },
    {
      "cell_type": "code",
      "source": [
        "# inspect the dataset\n",
        "train_data.head()"
      ],
      "metadata": {
        "colab": {
          "base_uri": "https://localhost:8080/",
          "height": 206
        },
        "id": "RTzpWHYSB4B_",
        "outputId": "f81c47ef-d54f-49e8-d7f7-910b90020d68"
      },
      "execution_count": 3,
      "outputs": [
        {
          "output_type": "execute_result",
          "data": {
            "text/plain": [
              "   Age          Workclass  fnlwgt   Education  Education-num  \\\n",
              "0   39          State-gov   77516   Bachelors             13   \n",
              "1   50   Self-emp-not-inc   83311   Bachelors             13   \n",
              "2   38            Private  215646     HS-grad              9   \n",
              "3   53            Private  234721        11th              7   \n",
              "4   28            Private  338409   Bachelors             13   \n",
              "\n",
              "        Marital status          Occupation    Relationship    Race      Sex  \\\n",
              "0        Never-married        Adm-clerical   Not-in-family   White     Male   \n",
              "1   Married-civ-spouse     Exec-managerial         Husband   White     Male   \n",
              "2             Divorced   Handlers-cleaners   Not-in-family   White     Male   \n",
              "3   Married-civ-spouse   Handlers-cleaners         Husband   Black     Male   \n",
              "4   Married-civ-spouse      Prof-specialty            Wife   Black   Female   \n",
              "\n",
              "   Capital-gain  Capital-loss  Hours-per-week  Native-country  Income  \n",
              "0          2174             0              40   United-States   <=50K  \n",
              "1             0             0              13   United-States   <=50K  \n",
              "2             0             0              40   United-States   <=50K  \n",
              "3             0             0              40   United-States   <=50K  \n",
              "4             0             0              40            Cuba   <=50K  "
            ],
            "text/html": [
              "\n",
              "  <div id=\"df-e77b262f-c1c4-4a3e-8910-44ddd488ab23\">\n",
              "    <div class=\"colab-df-container\">\n",
              "      <div>\n",
              "<style scoped>\n",
              "    .dataframe tbody tr th:only-of-type {\n",
              "        vertical-align: middle;\n",
              "    }\n",
              "\n",
              "    .dataframe tbody tr th {\n",
              "        vertical-align: top;\n",
              "    }\n",
              "\n",
              "    .dataframe thead th {\n",
              "        text-align: right;\n",
              "    }\n",
              "</style>\n",
              "<table border=\"1\" class=\"dataframe\">\n",
              "  <thead>\n",
              "    <tr style=\"text-align: right;\">\n",
              "      <th></th>\n",
              "      <th>Age</th>\n",
              "      <th>Workclass</th>\n",
              "      <th>fnlwgt</th>\n",
              "      <th>Education</th>\n",
              "      <th>Education-num</th>\n",
              "      <th>Marital status</th>\n",
              "      <th>Occupation</th>\n",
              "      <th>Relationship</th>\n",
              "      <th>Race</th>\n",
              "      <th>Sex</th>\n",
              "      <th>Capital-gain</th>\n",
              "      <th>Capital-loss</th>\n",
              "      <th>Hours-per-week</th>\n",
              "      <th>Native-country</th>\n",
              "      <th>Income</th>\n",
              "    </tr>\n",
              "  </thead>\n",
              "  <tbody>\n",
              "    <tr>\n",
              "      <th>0</th>\n",
              "      <td>39</td>\n",
              "      <td>State-gov</td>\n",
              "      <td>77516</td>\n",
              "      <td>Bachelors</td>\n",
              "      <td>13</td>\n",
              "      <td>Never-married</td>\n",
              "      <td>Adm-clerical</td>\n",
              "      <td>Not-in-family</td>\n",
              "      <td>White</td>\n",
              "      <td>Male</td>\n",
              "      <td>2174</td>\n",
              "      <td>0</td>\n",
              "      <td>40</td>\n",
              "      <td>United-States</td>\n",
              "      <td>&lt;=50K</td>\n",
              "    </tr>\n",
              "    <tr>\n",
              "      <th>1</th>\n",
              "      <td>50</td>\n",
              "      <td>Self-emp-not-inc</td>\n",
              "      <td>83311</td>\n",
              "      <td>Bachelors</td>\n",
              "      <td>13</td>\n",
              "      <td>Married-civ-spouse</td>\n",
              "      <td>Exec-managerial</td>\n",
              "      <td>Husband</td>\n",
              "      <td>White</td>\n",
              "      <td>Male</td>\n",
              "      <td>0</td>\n",
              "      <td>0</td>\n",
              "      <td>13</td>\n",
              "      <td>United-States</td>\n",
              "      <td>&lt;=50K</td>\n",
              "    </tr>\n",
              "    <tr>\n",
              "      <th>2</th>\n",
              "      <td>38</td>\n",
              "      <td>Private</td>\n",
              "      <td>215646</td>\n",
              "      <td>HS-grad</td>\n",
              "      <td>9</td>\n",
              "      <td>Divorced</td>\n",
              "      <td>Handlers-cleaners</td>\n",
              "      <td>Not-in-family</td>\n",
              "      <td>White</td>\n",
              "      <td>Male</td>\n",
              "      <td>0</td>\n",
              "      <td>0</td>\n",
              "      <td>40</td>\n",
              "      <td>United-States</td>\n",
              "      <td>&lt;=50K</td>\n",
              "    </tr>\n",
              "    <tr>\n",
              "      <th>3</th>\n",
              "      <td>53</td>\n",
              "      <td>Private</td>\n",
              "      <td>234721</td>\n",
              "      <td>11th</td>\n",
              "      <td>7</td>\n",
              "      <td>Married-civ-spouse</td>\n",
              "      <td>Handlers-cleaners</td>\n",
              "      <td>Husband</td>\n",
              "      <td>Black</td>\n",
              "      <td>Male</td>\n",
              "      <td>0</td>\n",
              "      <td>0</td>\n",
              "      <td>40</td>\n",
              "      <td>United-States</td>\n",
              "      <td>&lt;=50K</td>\n",
              "    </tr>\n",
              "    <tr>\n",
              "      <th>4</th>\n",
              "      <td>28</td>\n",
              "      <td>Private</td>\n",
              "      <td>338409</td>\n",
              "      <td>Bachelors</td>\n",
              "      <td>13</td>\n",
              "      <td>Married-civ-spouse</td>\n",
              "      <td>Prof-specialty</td>\n",
              "      <td>Wife</td>\n",
              "      <td>Black</td>\n",
              "      <td>Female</td>\n",
              "      <td>0</td>\n",
              "      <td>0</td>\n",
              "      <td>40</td>\n",
              "      <td>Cuba</td>\n",
              "      <td>&lt;=50K</td>\n",
              "    </tr>\n",
              "  </tbody>\n",
              "</table>\n",
              "</div>\n",
              "      <button class=\"colab-df-convert\" onclick=\"convertToInteractive('df-e77b262f-c1c4-4a3e-8910-44ddd488ab23')\"\n",
              "              title=\"Convert this dataframe to an interactive table.\"\n",
              "              style=\"display:none;\">\n",
              "        \n",
              "  <svg xmlns=\"http://www.w3.org/2000/svg\" height=\"24px\"viewBox=\"0 0 24 24\"\n",
              "       width=\"24px\">\n",
              "    <path d=\"M0 0h24v24H0V0z\" fill=\"none\"/>\n",
              "    <path d=\"M18.56 5.44l.94 2.06.94-2.06 2.06-.94-2.06-.94-.94-2.06-.94 2.06-2.06.94zm-11 1L8.5 8.5l.94-2.06 2.06-.94-2.06-.94L8.5 2.5l-.94 2.06-2.06.94zm10 10l.94 2.06.94-2.06 2.06-.94-2.06-.94-.94-2.06-.94 2.06-2.06.94z\"/><path d=\"M17.41 7.96l-1.37-1.37c-.4-.4-.92-.59-1.43-.59-.52 0-1.04.2-1.43.59L10.3 9.45l-7.72 7.72c-.78.78-.78 2.05 0 2.83L4 21.41c.39.39.9.59 1.41.59.51 0 1.02-.2 1.41-.59l7.78-7.78 2.81-2.81c.8-.78.8-2.07 0-2.86zM5.41 20L4 18.59l7.72-7.72 1.47 1.35L5.41 20z\"/>\n",
              "  </svg>\n",
              "      </button>\n",
              "      \n",
              "  <style>\n",
              "    .colab-df-container {\n",
              "      display:flex;\n",
              "      flex-wrap:wrap;\n",
              "      gap: 12px;\n",
              "    }\n",
              "\n",
              "    .colab-df-convert {\n",
              "      background-color: #E8F0FE;\n",
              "      border: none;\n",
              "      border-radius: 50%;\n",
              "      cursor: pointer;\n",
              "      display: none;\n",
              "      fill: #1967D2;\n",
              "      height: 32px;\n",
              "      padding: 0 0 0 0;\n",
              "      width: 32px;\n",
              "    }\n",
              "\n",
              "    .colab-df-convert:hover {\n",
              "      background-color: #E2EBFA;\n",
              "      box-shadow: 0px 1px 2px rgba(60, 64, 67, 0.3), 0px 1px 3px 1px rgba(60, 64, 67, 0.15);\n",
              "      fill: #174EA6;\n",
              "    }\n",
              "\n",
              "    [theme=dark] .colab-df-convert {\n",
              "      background-color: #3B4455;\n",
              "      fill: #D2E3FC;\n",
              "    }\n",
              "\n",
              "    [theme=dark] .colab-df-convert:hover {\n",
              "      background-color: #434B5C;\n",
              "      box-shadow: 0px 1px 3px 1px rgba(0, 0, 0, 0.15);\n",
              "      filter: drop-shadow(0px 1px 2px rgba(0, 0, 0, 0.3));\n",
              "      fill: #FFFFFF;\n",
              "    }\n",
              "  </style>\n",
              "\n",
              "      <script>\n",
              "        const buttonEl =\n",
              "          document.querySelector('#df-e77b262f-c1c4-4a3e-8910-44ddd488ab23 button.colab-df-convert');\n",
              "        buttonEl.style.display =\n",
              "          google.colab.kernel.accessAllowed ? 'block' : 'none';\n",
              "\n",
              "        async function convertToInteractive(key) {\n",
              "          const element = document.querySelector('#df-e77b262f-c1c4-4a3e-8910-44ddd488ab23');\n",
              "          const dataTable =\n",
              "            await google.colab.kernel.invokeFunction('convertToInteractive',\n",
              "                                                     [key], {});\n",
              "          if (!dataTable) return;\n",
              "\n",
              "          const docLinkHtml = 'Like what you see? Visit the ' +\n",
              "            '<a target=\"_blank\" href=https://colab.research.google.com/notebooks/data_table.ipynb>data table notebook</a>'\n",
              "            + ' to learn more about interactive tables.';\n",
              "          element.innerHTML = '';\n",
              "          dataTable['output_type'] = 'display_data';\n",
              "          await google.colab.output.renderOutput(dataTable, element);\n",
              "          const docLink = document.createElement('div');\n",
              "          docLink.innerHTML = docLinkHtml;\n",
              "          element.appendChild(docLink);\n",
              "        }\n",
              "      </script>\n",
              "    </div>\n",
              "  </div>\n",
              "  "
            ]
          },
          "metadata": {},
          "execution_count": 3
        }
      ]
    },
    {
      "cell_type": "code",
      "source": [
        "print('Shape of the train_data:', train_data.shape,'\\n')"
      ],
      "metadata": {
        "colab": {
          "base_uri": "https://localhost:8080/"
        },
        "id": "wkQPz7pOx84o",
        "outputId": "ca9aa4c0-e3a3-4946-f00e-98eea23da98f"
      },
      "execution_count": 4,
      "outputs": [
        {
          "output_type": "stream",
          "name": "stdout",
          "text": [
            "Shape of the train_data: (32560, 15) \n",
            "\n"
          ]
        }
      ]
    },
    {
      "cell_type": "markdown",
      "source": [
        "### Data Visualization For Training Data"
      ],
      "metadata": {
        "id": "OmrR-yT91uRl"
      }
    },
    {
      "cell_type": "code",
      "source": [
        "def dist_plot(X):\n",
        "  plt.figure(figsize=(12,7))\n",
        "  sns.set(palette=\"muted\", color_codes=True)\n",
        "  first_15 = sns.barplot(x=train_data[X].value_counts().index, y=train_data[X].value_counts().values)\n",
        "  plt.xticks(rotation='0', fontsize=14, fontweight='bold')\n",
        "  plt.xlabel(X, fontsize=16, fontweight='bold')\n",
        "  plt.yticks(rotation='0', fontsize=14, fontweight='bold')\n",
        "  plt.ylabel('Count', rotation=0, ha='right', fontsize=14, fontweight='bold')\n",
        "\n",
        "  for patch in first_15.patches:\n",
        "              first_15.annotate(\"%.0f\" % patch.get_height(), (patch.get_x() + patch.get_width() / 2., patch.get_height()),\n",
        "                  ha='center', va='center', fontsize=14, fontweight='bold', color='black', xytext=(0, 5),\n",
        "                  textcoords='offset points')\n",
        "  # plt.grid()\n",
        "  plt.show()"
      ],
      "metadata": {
        "id": "uZazf4OAx_jM"
      },
      "execution_count": 5,
      "outputs": []
    },
    {
      "cell_type": "code",
      "source": [
        "dist_plot(\"Income\")"
      ],
      "metadata": {
        "colab": {
          "base_uri": "https://localhost:8080/",
          "height": 454
        },
        "id": "cOHKw8D8yW6f",
        "outputId": "9343645f-9349-4b0c-c6ef-55656c05bd5c"
      },
      "execution_count": 6,
      "outputs": [
        {
          "output_type": "display_data",
          "data": {
            "text/plain": [
              "<Figure size 864x504 with 1 Axes>"
            ],
            "image/png": "[encoded data removed]"
          },
          "metadata": {
            "needs_background": "light"
          }
        }
      ]
    },
    {
      "cell_type": "markdown",
      "source": [
        "### Data Preprocessing For Training Data"
      ],
      "metadata": {
        "id": "lVF-s245FiZc"
      }
    },
    {
      "cell_type": "code",
      "source": [
        "# No null or NaN values\n",
        "train_data.isnull().sum()"
      ],
      "metadata": {
        "id": "ngGQD4B9B9vf",
        "colab": {
          "base_uri": "https://localhost:8080/"
        },
        "outputId": "1079b6c5-5727-4d7c-c528-c6c028b1ce5d"
      },
      "execution_count": 7,
      "outputs": [
        {
          "output_type": "execute_result",
          "data": {
            "text/plain": [
              "Age               0\n",
              "Workclass         0\n",
              "fnlwgt            0\n",
              "Education         0\n",
              "Education-num     0\n",
              "Marital status    0\n",
              "Occupation        0\n",
              "Relationship      0\n",
              "Race              0\n",
              "Sex               0\n",
              "Capital-gain      0\n",
              "Capital-loss      0\n",
              "Hours-per-week    0\n",
              "Native-country    0\n",
              "Income            0\n",
              "dtype: int64"
            ]
          },
          "metadata": {},
          "execution_count": 7
        }
      ]
    },
    {
      "cell_type": "markdown",
      "source": [
        "#### Removing rows with unknown values ('?')\n",
        "\n",
        "> All missing or unknow values, however, are marked with a question mark (?)\n",
        "\n",
        "> There are 3 columns which contain '?' - Workclass, Occupation, Native-country"
      ],
      "metadata": {
        "id": "kkmzJ37RHkt0"
      }
    },
    {
      "cell_type": "code",
      "source": [
        "# Let's start with the Workclass column\n",
        "# We can obtain a list of boolean values indicating whether there is a '?' on the current row\n",
        "train_data[\"Workclass\"].str.contains(\"\\?\").sum()"
      ],
      "metadata": {
        "colab": {
          "base_uri": "https://localhost:8080/"
        },
        "id": "pfkpQjPrFm2V",
        "outputId": "da235a58-b358-455f-f1e6-39e67bd4a896"
      },
      "execution_count": 8,
      "outputs": [
        {
          "output_type": "execute_result",
          "data": {
            "text/plain": [
              "1836"
            ]
          },
          "metadata": {},
          "execution_count": 8
        }
      ]
    },
    {
      "cell_type": "code",
      "source": [
        "# Take the subset of the dataframe rows which don't contain '?'\n",
        "train_data = train_data[train_data[\"Workclass\"].str.contains(\"\\?\") == False]"
      ],
      "metadata": {
        "id": "Es-oW3D1FsCk"
      },
      "execution_count": 9,
      "outputs": []
    },
    {
      "cell_type": "code",
      "source": [
        "print('Shape of the train_data:', train_data.shape,'\\n')"
      ],
      "metadata": {
        "id": "9r0C6Z0_F_71",
        "colab": {
          "base_uri": "https://localhost:8080/"
        },
        "outputId": "b071b50c-ffef-4c95-97bd-6b6382ff9491"
      },
      "execution_count": 10,
      "outputs": [
        {
          "output_type": "stream",
          "name": "stdout",
          "text": [
            "Shape of the train_data: (30724, 15) \n",
            "\n"
          ]
        }
      ]
    },
    {
      "cell_type": "code",
      "source": [
        "# Let's do the same for 'Occupation'\n",
        "train_data = train_data[train_data[\"Occupation\"].str.contains(\"\\?\") == False]"
      ],
      "metadata": {
        "id": "HDtxaj6cGCr9"
      },
      "execution_count": 11,
      "outputs": []
    },
    {
      "cell_type": "code",
      "source": [
        "print('Shape of the train_data:', train_data.shape,'\\n')"
      ],
      "metadata": {
        "colab": {
          "base_uri": "https://localhost:8080/"
        },
        "id": "hw7gF1t4ITUc",
        "outputId": "cba44774-efa5-44c2-b89b-c6c99dd2aa81"
      },
      "execution_count": 12,
      "outputs": [
        {
          "output_type": "stream",
          "name": "stdout",
          "text": [
            "Shape of the train_data: (30717, 15) \n",
            "\n"
          ]
        }
      ]
    },
    {
      "cell_type": "code",
      "source": [
        "# And for 'Native-country'\n",
        "train_data = train_data[train_data[\"Native-country\"].str.contains(\"\\?\") == False]"
      ],
      "metadata": {
        "id": "vQtAQ7GGCAkO"
      },
      "execution_count": 13,
      "outputs": []
    },
    {
      "cell_type": "code",
      "source": [
        "print('Shape of the train_data:', train_data.shape,'\\n')"
      ],
      "metadata": {
        "colab": {
          "base_uri": "https://localhost:8080/"
        },
        "id": "4z3_jan-IZhb",
        "outputId": "5e0d1c2b-9537-4e43-e21a-63dabc2e0752"
      },
      "execution_count": 14,
      "outputs": [
        {
          "output_type": "stream",
          "name": "stdout",
          "text": [
            "Shape of the train_data: (30161, 15) \n",
            "\n"
          ]
        }
      ]
    },
    {
      "cell_type": "code",
      "source": [
        "# Finally, let's reset the index\n",
        "train_data = train_data.reset_index(drop=True)"
      ],
      "metadata": {
        "id": "zKgf4FQ-Ifya"
      },
      "execution_count": 15,
      "outputs": []
    },
    {
      "cell_type": "markdown",
      "source": [
        "#### Creating dummy variables and separating inputs and targets\n",
        "\n",
        " - In the original data, there are both categorical and numerical data\n",
        " - Decision trees and random forest can work with categorical data in general However, this is not implemented in sklearn So, we need to convert the categorical data to numerical We will do that with one hot encoding"
      ],
      "metadata": {
        "id": "yBaxzIOfIppD"
      }
    },
    {
      "cell_type": "code",
      "source": [
        "# Pandas can automatically do that for us with '.get_dummies'\n",
        "train_data = pd.get_dummies(train_data, drop_first=False)"
      ],
      "metadata": {
        "id": "sFXKPfreI6oW"
      },
      "execution_count": 16,
      "outputs": []
    },
    {
      "cell_type": "code",
      "source": [
        "train_data.head()"
      ],
      "metadata": {
        "colab": {
          "base_uri": "https://localhost:8080/",
          "height": 0
        },
        "id": "-O0ao0_AJQN5",
        "outputId": "155f7934-c771-40f6-d130-d6df85a86f67"
      },
      "execution_count": 17,
      "outputs": [
        {
          "output_type": "execute_result",
          "data": {
            "text/plain": [
              "   Age  fnlwgt  Education-num  Capital-gain  Capital-loss  Hours-per-week  \\\n",
              "0   39   77516             13          2174             0              40   \n",
              "1   50   83311             13             0             0              13   \n",
              "2   38  215646              9             0             0              40   \n",
              "3   53  234721              7             0             0              40   \n",
              "4   28  338409             13             0             0              40   \n",
              "\n",
              "   Workclass_ Federal-gov  Workclass_ Local-gov  Workclass_ Private  \\\n",
              "0                       0                     0                   0   \n",
              "1                       0                     0                   0   \n",
              "2                       0                     0                   1   \n",
              "3                       0                     0                   1   \n",
              "4                       0                     0                   1   \n",
              "\n",
              "   Workclass_ Self-emp-inc  ...  Native-country_ Scotland  \\\n",
              "0                        0  ...                         0   \n",
              "1                        0  ...                         0   \n",
              "2                        0  ...                         0   \n",
              "3                        0  ...                         0   \n",
              "4                        0  ...                         0   \n",
              "\n",
              "   Native-country_ South  Native-country_ Taiwan  Native-country_ Thailand  \\\n",
              "0                      0                       0                         0   \n",
              "1                      0                       0                         0   \n",
              "2                      0                       0                         0   \n",
              "3                      0                       0                         0   \n",
              "4                      0                       0                         0   \n",
              "\n",
              "   Native-country_ Trinadad&Tobago  Native-country_ United-States  \\\n",
              "0                                0                              1   \n",
              "1                                0                              1   \n",
              "2                                0                              1   \n",
              "3                                0                              1   \n",
              "4                                0                              0   \n",
              "\n",
              "   Native-country_ Vietnam  Native-country_ Yugoslavia  Income_ <=50K  \\\n",
              "0                        0                           0              1   \n",
              "1                        0                           0              1   \n",
              "2                        0                           0              1   \n",
              "3                        0                           0              1   \n",
              "4                        0                           0              1   \n",
              "\n",
              "   Income_ >50K  \n",
              "0             0  \n",
              "1             0  \n",
              "2             0  \n",
              "3             0  \n",
              "4             0  \n",
              "\n",
              "[5 rows x 105 columns]"
            ],
            "text/html": [
              "\n",
              "  <div id=\"df-ce566445-ebae-4043-868c-f1201ec9bc53\">\n",
              "    <div class=\"colab-df-container\">\n",
              "      <div>\n",
              "<style scoped>\n",
              "    .dataframe tbody tr th:only-of-type {\n",
              "        vertical-align: middle;\n",
              "    }\n",
              "\n",
              "    .dataframe tbody tr th {\n",
              "        vertical-align: top;\n",
              "    }\n",
              "\n",
              "    .dataframe thead th {\n",
              "        text-align: right;\n",
              "    }\n",
              "</style>\n",
              "<table border=\"1\" class=\"dataframe\">\n",
              "  <thead>\n",
              "    <tr style=\"text-align: right;\">\n",
              "      <th></th>\n",
              "      <th>Age</th>\n",
              "      <th>fnlwgt</th>\n",
              "      <th>Education-num</th>\n",
              "      <th>Capital-gain</th>\n",
              "      <th>Capital-loss</th>\n",
              "      <th>Hours-per-week</th>\n",
              "      <th>Workclass_ Federal-gov</th>\n",
              "      <th>Workclass_ Local-gov</th>\n",
              "      <th>Workclass_ Private</th>\n",
              "      <th>Workclass_ Self-emp-inc</th>\n",
              "      <th>...</th>\n",
              "      <th>Native-country_ Scotland</th>\n",
              "      <th>Native-country_ South</th>\n",
              "      <th>Native-country_ Taiwan</th>\n",
              "      <th>Native-country_ Thailand</th>\n",
              "      <th>Native-country_ Trinadad&amp;Tobago</th>\n",
              "      <th>Native-country_ United-States</th>\n",
              "      <th>Native-country_ Vietnam</th>\n",
              "      <th>Native-country_ Yugoslavia</th>\n",
              "      <th>Income_ &lt;=50K</th>\n",
              "      <th>Income_ &gt;50K</th>\n",
              "    </tr>\n",
              "  </thead>\n",
              "  <tbody>\n",
              "    <tr>\n",
              "      <th>0</th>\n",
              "      <td>39</td>\n",
              "      <td>77516</td>\n",
              "      <td>13</td>\n",
              "      <td>2174</td>\n",
              "      <td>0</td>\n",
              "      <td>40</td>\n",
              "      <td>0</td>\n",
              "      <td>0</td>\n",
              "      <td>0</td>\n",
              "      <td>0</td>\n",
              "      <td>...</td>\n",
              "      <td>0</td>\n",
              "      <td>0</td>\n",
              "      <td>0</td>\n",
              "      <td>0</td>\n",
              "      <td>0</td>\n",
              "      <td>1</td>\n",
              "      <td>0</td>\n",
              "      <td>0</td>\n",
              "      <td>1</td>\n",
              "      <td>0</td>\n",
              "    </tr>\n",
              "    <tr>\n",
              "      <th>1</th>\n",
              "      <td>50</td>\n",
              "      <td>83311</td>\n",
              "      <td>13</td>\n",
              "      <td>0</td>\n",
              "      <td>0</td>\n",
              "      <td>13</td>\n",
              "      <td>0</td>\n",
              "      <td>0</td>\n",
              "      <td>0</td>\n",
              "      <td>0</td>\n",
              "      <td>...</td>\n",
              "      <td>0</td>\n",
              "      <td>0</td>\n",
              "      <td>0</td>\n",
              "      <td>0</td>\n",
              "      <td>0</td>\n",
              "      <td>1</td>\n",
              "      <td>0</td>\n",
              "      <td>0</td>\n",
              "      <td>1</td>\n",
              "      <td>0</td>\n",
              "    </tr>\n",
              "    <tr>\n",
              "      <th>2</th>\n",
              "      <td>38</td>\n",
              "      <td>215646</td>\n",
              "      <td>9</td>\n",
              "      <td>0</td>\n",
              "      <td>0</td>\n",
              "      <td>40</td>\n",
              "      <td>0</td>\n",
              "      <td>0</td>\n",
              "      <td>1</td>\n",
              "      <td>0</td>\n",
              "      <td>...</td>\n",
              "      <td>0</td>\n",
              "      <td>0</td>\n",
              "      <td>0</td>\n",
              "      <td>0</td>\n",
              "      <td>0</td>\n",
              "      <td>1</td>\n",
              "      <td>0</td>\n",
              "      <td>0</td>\n",
              "      <td>1</td>\n",
              "      <td>0</td>\n",
              "    </tr>\n",
              "    <tr>\n",
              "      <th>3</th>\n",
              "      <td>53</td>\n",
              "      <td>234721</td>\n",
              "      <td>7</td>\n",
              "      <td>0</td>\n",
              "      <td>0</td>\n",
              "      <td>40</td>\n",
              "      <td>0</td>\n",
              "      <td>0</td>\n",
              "      <td>1</td>\n",
              "      <td>0</td>\n",
              "      <td>...</td>\n",
              "      <td>0</td>\n",
              "      <td>0</td>\n",
              "      <td>0</td>\n",
              "      <td>0</td>\n",
              "      <td>0</td>\n",
              "      <td>1</td>\n",
              "      <td>0</td>\n",
              "      <td>0</td>\n",
              "      <td>1</td>\n",
              "      <td>0</td>\n",
              "    </tr>\n",
              "    <tr>\n",
              "      <th>4</th>\n",
              "      <td>28</td>\n",
              "      <td>338409</td>\n",
              "      <td>13</td>\n",
              "      <td>0</td>\n",
              "      <td>0</td>\n",
              "      <td>40</td>\n",
              "      <td>0</td>\n",
              "      <td>0</td>\n",
              "      <td>1</td>\n",
              "      <td>0</td>\n",
              "      <td>...</td>\n",
              "      <td>0</td>\n",
              "      <td>0</td>\n",
              "      <td>0</td>\n",
              "      <td>0</td>\n",
              "      <td>0</td>\n",
              "      <td>0</td>\n",
              "      <td>0</td>\n",
              "      <td>0</td>\n",
              "      <td>1</td>\n",
              "      <td>0</td>\n",
              "    </tr>\n",
              "  </tbody>\n",
              "</table>\n",
              "<p>5 rows × 105 columns</p>\n",
              "</div>\n",
              "      <button class=\"colab-df-convert\" onclick=\"convertToInteractive('df-ce566445-ebae-4043-868c-f1201ec9bc53')\"\n",
              "              title=\"Convert this dataframe to an interactive table.\"\n",
              "              style=\"display:none;\">\n",
              "        \n",
              "  <svg xmlns=\"http://www.w3.org/2000/svg\" height=\"24px\"viewBox=\"0 0 24 24\"\n",
              "       width=\"24px\">\n",
              "    <path d=\"M0 0h24v24H0V0z\" fill=\"none\"/>\n",
              "    <path d=\"M18.56 5.44l.94 2.06.94-2.06 2.06-.94-2.06-.94-.94-2.06-.94 2.06-2.06.94zm-11 1L8.5 8.5l.94-2.06 2.06-.94-2.06-.94L8.5 2.5l-.94 2.06-2.06.94zm10 10l.94 2.06.94-2.06 2.06-.94-2.06-.94-.94-2.06-.94 2.06-2.06.94z\"/><path d=\"M17.41 7.96l-1.37-1.37c-.4-.4-.92-.59-1.43-.59-.52 0-1.04.2-1.43.59L10.3 9.45l-7.72 7.72c-.78.78-.78 2.05 0 2.83L4 21.41c.39.39.9.59 1.41.59.51 0 1.02-.2 1.41-.59l7.78-7.78 2.81-2.81c.8-.78.8-2.07 0-2.86zM5.41 20L4 18.59l7.72-7.72 1.47 1.35L5.41 20z\"/>\n",
              "  </svg>\n",
              "      </button>\n",
              "      \n",
              "  <style>\n",
              "    .colab-df-container {\n",
              "      display:flex;\n",
              "      flex-wrap:wrap;\n",
              "      gap: 12px;\n",
              "    }\n",
              "\n",
              "    .colab-df-convert {\n",
              "      background-color: #E8F0FE;\n",
              "      border: none;\n",
              "      border-radius: 50%;\n",
              "      cursor: pointer;\n",
              "      display: none;\n",
              "      fill: #1967D2;\n",
              "      height: 32px;\n",
              "      padding: 0 0 0 0;\n",
              "      width: 32px;\n",
              "    }\n",
              "\n",
              "    .colab-df-convert:hover {\n",
              "      background-color: #E2EBFA;\n",
              "      box-shadow: 0px 1px 2px rgba(60, 64, 67, 0.3), 0px 1px 3px 1px rgba(60, 64, 67, 0.15);\n",
              "      fill: #174EA6;\n",
              "    }\n",
              "\n",
              "    [theme=dark] .colab-df-convert {\n",
              "      background-color: #3B4455;\n",
              "      fill: #D2E3FC;\n",
              "    }\n",
              "\n",
              "    [theme=dark] .colab-df-convert:hover {\n",
              "      background-color: #434B5C;\n",
              "      box-shadow: 0px 1px 3px 1px rgba(0, 0, 0, 0.15);\n",
              "      filter: drop-shadow(0px 1px 2px rgba(0, 0, 0, 0.3));\n",
              "      fill: #FFFFFF;\n",
              "    }\n",
              "  </style>\n",
              "\n",
              "      <script>\n",
              "        const buttonEl =\n",
              "          document.querySelector('#df-ce566445-ebae-4043-868c-f1201ec9bc53 button.colab-df-convert');\n",
              "        buttonEl.style.display =\n",
              "          google.colab.kernel.accessAllowed ? 'block' : 'none';\n",
              "\n",
              "        async function convertToInteractive(key) {\n",
              "          const element = document.querySelector('#df-ce566445-ebae-4043-868c-f1201ec9bc53');\n",
              "          const dataTable =\n",
              "            await google.colab.kernel.invokeFunction('convertToInteractive',\n",
              "                                                     [key], {});\n",
              "          if (!dataTable) return;\n",
              "\n",
              "          const docLinkHtml = 'Like what you see? Visit the ' +\n",
              "            '<a target=\"_blank\" href=https://colab.research.google.com/notebooks/data_table.ipynb>data table notebook</a>'\n",
              "            + ' to learn more about interactive tables.';\n",
              "          element.innerHTML = '';\n",
              "          dataTable['output_type'] = 'display_data';\n",
              "          await google.colab.output.renderOutput(dataTable, element);\n",
              "          const docLink = document.createElement('div');\n",
              "          docLink.innerHTML = docLinkHtml;\n",
              "          element.appendChild(docLink);\n",
              "        }\n",
              "      </script>\n",
              "    </div>\n",
              "  </div>\n",
              "  "
            ]
          },
          "metadata": {},
          "execution_count": 17
        }
      ]
    },
    {
      "cell_type": "code",
      "source": [
        "# The last 2 columns are whether the income <= 50k and whether it is >50k\n",
        "# Both of these carry the same information, so we will remove one of them\n",
        "train_data = train_data.drop(['Income_ <=50K'],axis=1)"
      ],
      "metadata": {
        "id": "wAh5Yc5DJTLt"
      },
      "execution_count": 18,
      "outputs": []
    },
    {
      "cell_type": "code",
      "source": [
        "print('Shape of the train_data:', train_data.shape,'\\n')"
      ],
      "metadata": {
        "colab": {
          "base_uri": "https://localhost:8080/"
        },
        "id": "26KhEtqGJYTY",
        "outputId": "1361c127-863f-434f-ae4b-e26b71d16d6f"
      },
      "execution_count": 19,
      "outputs": [
        {
          "output_type": "stream",
          "name": "stdout",
          "text": [
            "Shape of the train_data: (30161, 104) \n",
            "\n"
          ]
        }
      ]
    },
    {
      "cell_type": "markdown",
      "source": [
        "#### Removing all duplicates data"
      ],
      "metadata": {
        "id": "MLYTwNT5J48a"
      }
    },
    {
      "cell_type": "code",
      "source": [
        "train_data.duplicated().sum()"
      ],
      "metadata": {
        "colab": {
          "base_uri": "https://localhost:8080/"
        },
        "id": "tPlOmCRmJcUk",
        "outputId": "96a6f8b1-2074-4ed9-d20f-87567e519d69"
      },
      "execution_count": 20,
      "outputs": [
        {
          "output_type": "execute_result",
          "data": {
            "text/plain": [
              "23"
            ]
          },
          "metadata": {},
          "execution_count": 20
        }
      ]
    },
    {
      "cell_type": "code",
      "source": [
        "train_data = train_data.drop_duplicates()"
      ],
      "metadata": {
        "id": "Xs5uSWIsJjvK"
      },
      "execution_count": 21,
      "outputs": []
    },
    {
      "cell_type": "code",
      "source": [
        "train_data.duplicated().sum()"
      ],
      "metadata": {
        "colab": {
          "base_uri": "https://localhost:8080/"
        },
        "outputId": "c8eaed31-c223-43db-9047-b24c2ba30174",
        "id": "g725Z_IAJjvK"
      },
      "execution_count": 22,
      "outputs": [
        {
          "output_type": "execute_result",
          "data": {
            "text/plain": [
              "0"
            ]
          },
          "metadata": {},
          "execution_count": 22
        }
      ]
    },
    {
      "cell_type": "code",
      "source": [
        "print('Shape of the train_data:', train_data.shape,'\\n')"
      ],
      "metadata": {
        "colab": {
          "base_uri": "https://localhost:8080/"
        },
        "id": "Y_p_7BE3Lp9D",
        "outputId": "e88c4caa-4d4e-436a-e980-8a02a8fa2d8f"
      },
      "execution_count": 23,
      "outputs": [
        {
          "output_type": "stream",
          "name": "stdout",
          "text": [
            "Shape of the train_data: (30138, 104) \n",
            "\n"
          ]
        }
      ]
    },
    {
      "cell_type": "markdown",
      "source": [
        "### split the data into `[train_input, train_target]` For Training Data"
      ],
      "metadata": {
        "id": "Ww63RfG9KN7K"
      }
    },
    {
      "cell_type": "code",
      "source": [
        "# The input features are everything besides the last column\n",
        "train_input = train_data.iloc[:,:-1]\n",
        "\n",
        "# The target/output is just the last column\n",
        "train_target = train_data.iloc[:,-1]"
      ],
      "metadata": {
        "id": "2i57PyRjJpS_"
      },
      "execution_count": 24,
      "outputs": []
    },
    {
      "cell_type": "code",
      "source": [
        "print('Shape of the train_input:', train_input.shape,'\\n')\n",
        "print('Shape of the train_target:', train_target.shape,'\\n')"
      ],
      "metadata": {
        "colab": {
          "base_uri": "https://localhost:8080/"
        },
        "id": "WU5Ma2lnCCxm",
        "outputId": "a56446a2-526b-4a5f-b2df-78e5f2b3ecf0"
      },
      "execution_count": 25,
      "outputs": [
        {
          "output_type": "stream",
          "name": "stdout",
          "text": [
            "Shape of the train_input: (30138, 103) \n",
            "\n",
            "Shape of the train_target: (30138,) \n",
            "\n"
          ]
        }
      ]
    },
    {
      "cell_type": "markdown",
      "source": [
        "## Testing Data"
      ],
      "metadata": {
        "id": "7aVgEUeSKvyA"
      }
    },
    {
      "cell_type": "markdown",
      "source": [
        "### Reading test data"
      ],
      "metadata": {
        "id": "dZuJQepXMLXa"
      }
    },
    {
      "cell_type": "code",
      "source": [
        "# load the dataset\n",
        "test_data = pd.read_csv(\"Census_income_test.csv\")"
      ],
      "metadata": {
        "id": "fkbl7eZGKvyA"
      },
      "execution_count": 26,
      "outputs": []
    },
    {
      "cell_type": "code",
      "source": [
        "# inspect the dataset\n",
        "test_data.head()"
      ],
      "metadata": {
        "colab": {
          "base_uri": "https://localhost:8080/",
          "height": 206
        },
        "outputId": "52ecfcd0-0210-4fc6-fb07-6d4cd86b4aff",
        "id": "GMHCAdqcKvyA"
      },
      "execution_count": 27,
      "outputs": [
        {
          "output_type": "execute_result",
          "data": {
            "text/plain": [
              "   Age   Workclass  fnlwgt      Education  Education-num       Marital status  \\\n",
              "0   25     Private  226802           11th              7        Never-married   \n",
              "1   38     Private   89814        HS-grad              9   Married-civ-spouse   \n",
              "2   28   Local-gov  336951     Assoc-acdm             12   Married-civ-spouse   \n",
              "3   44     Private  160323   Some-college             10   Married-civ-spouse   \n",
              "4   18           ?  103497   Some-college             10        Never-married   \n",
              "\n",
              "           Occupation Relationship    Race      Sex  Capital-gain  \\\n",
              "0   Machine-op-inspct    Own-child   Black     Male             0   \n",
              "1     Farming-fishing      Husband   White     Male             0   \n",
              "2     Protective-serv      Husband   White     Male             0   \n",
              "3   Machine-op-inspct      Husband   Black     Male          7688   \n",
              "4                   ?    Own-child   White   Female             0   \n",
              "\n",
              "   Capital-loss  Hours-per-week  Native-country   Income  \n",
              "0             0              40   United-States   <=50K.  \n",
              "1             0              50   United-States   <=50K.  \n",
              "2             0              40   United-States    >50K.  \n",
              "3             0              40   United-States    >50K.  \n",
              "4             0              30   United-States   <=50K.  "
            ],
            "text/html": [
              "\n",
              "  <div id=\"df-617f3380-1c07-49ad-b76a-287202c61c27\">\n",
              "    <div class=\"colab-df-container\">\n",
              "      <div>\n",
              "<style scoped>\n",
              "    .dataframe tbody tr th:only-of-type {\n",
              "        vertical-align: middle;\n",
              "    }\n",
              "\n",
              "    .dataframe tbody tr th {\n",
              "        vertical-align: top;\n",
              "    }\n",
              "\n",
              "    .dataframe thead th {\n",
              "        text-align: right;\n",
              "    }\n",
              "</style>\n",
              "<table border=\"1\" class=\"dataframe\">\n",
              "  <thead>\n",
              "    <tr style=\"text-align: right;\">\n",
              "      <th></th>\n",
              "      <th>Age</th>\n",
              "      <th>Workclass</th>\n",
              "      <th>fnlwgt</th>\n",
              "      <th>Education</th>\n",
              "      <th>Education-num</th>\n",
              "      <th>Marital status</th>\n",
              "      <th>Occupation</th>\n",
              "      <th>Relationship</th>\n",
              "      <th>Race</th>\n",
              "      <th>Sex</th>\n",
              "      <th>Capital-gain</th>\n",
              "      <th>Capital-loss</th>\n",
              "      <th>Hours-per-week</th>\n",
              "      <th>Native-country</th>\n",
              "      <th>Income</th>\n",
              "    </tr>\n",
              "  </thead>\n",
              "  <tbody>\n",
              "    <tr>\n",
              "      <th>0</th>\n",
              "      <td>25</td>\n",
              "      <td>Private</td>\n",
              "      <td>226802</td>\n",
              "      <td>11th</td>\n",
              "      <td>7</td>\n",
              "      <td>Never-married</td>\n",
              "      <td>Machine-op-inspct</td>\n",
              "      <td>Own-child</td>\n",
              "      <td>Black</td>\n",
              "      <td>Male</td>\n",
              "      <td>0</td>\n",
              "      <td>0</td>\n",
              "      <td>40</td>\n",
              "      <td>United-States</td>\n",
              "      <td>&lt;=50K.</td>\n",
              "    </tr>\n",
              "    <tr>\n",
              "      <th>1</th>\n",
              "      <td>38</td>\n",
              "      <td>Private</td>\n",
              "      <td>89814</td>\n",
              "      <td>HS-grad</td>\n",
              "      <td>9</td>\n",
              "      <td>Married-civ-spouse</td>\n",
              "      <td>Farming-fishing</td>\n",
              "      <td>Husband</td>\n",
              "      <td>White</td>\n",
              "      <td>Male</td>\n",
              "      <td>0</td>\n",
              "      <td>0</td>\n",
              "      <td>50</td>\n",
              "      <td>United-States</td>\n",
              "      <td>&lt;=50K.</td>\n",
              "    </tr>\n",
              "    <tr>\n",
              "      <th>2</th>\n",
              "      <td>28</td>\n",
              "      <td>Local-gov</td>\n",
              "      <td>336951</td>\n",
              "      <td>Assoc-acdm</td>\n",
              "      <td>12</td>\n",
              "      <td>Married-civ-spouse</td>\n",
              "      <td>Protective-serv</td>\n",
              "      <td>Husband</td>\n",
              "      <td>White</td>\n",
              "      <td>Male</td>\n",
              "      <td>0</td>\n",
              "      <td>0</td>\n",
              "      <td>40</td>\n",
              "      <td>United-States</td>\n",
              "      <td>&gt;50K.</td>\n",
              "    </tr>\n",
              "    <tr>\n",
              "      <th>3</th>\n",
              "      <td>44</td>\n",
              "      <td>Private</td>\n",
              "      <td>160323</td>\n",
              "      <td>Some-college</td>\n",
              "      <td>10</td>\n",
              "      <td>Married-civ-spouse</td>\n",
              "      <td>Machine-op-inspct</td>\n",
              "      <td>Husband</td>\n",
              "      <td>Black</td>\n",
              "      <td>Male</td>\n",
              "      <td>7688</td>\n",
              "      <td>0</td>\n",
              "      <td>40</td>\n",
              "      <td>United-States</td>\n",
              "      <td>&gt;50K.</td>\n",
              "    </tr>\n",
              "    <tr>\n",
              "      <th>4</th>\n",
              "      <td>18</td>\n",
              "      <td>?</td>\n",
              "      <td>103497</td>\n",
              "      <td>Some-college</td>\n",
              "      <td>10</td>\n",
              "      <td>Never-married</td>\n",
              "      <td>?</td>\n",
              "      <td>Own-child</td>\n",
              "      <td>White</td>\n",
              "      <td>Female</td>\n",
              "      <td>0</td>\n",
              "      <td>0</td>\n",
              "      <td>30</td>\n",
              "      <td>United-States</td>\n",
              "      <td>&lt;=50K.</td>\n",
              "    </tr>\n",
              "  </tbody>\n",
              "</table>\n",
              "</div>\n",
              "      <button class=\"colab-df-convert\" onclick=\"convertToInteractive('df-617f3380-1c07-49ad-b76a-287202c61c27')\"\n",
              "              title=\"Convert this dataframe to an interactive table.\"\n",
              "              style=\"display:none;\">\n",
              "        \n",
              "  <svg xmlns=\"http://www.w3.org/2000/svg\" height=\"24px\"viewBox=\"0 0 24 24\"\n",
              "       width=\"24px\">\n",
              "    <path d=\"M0 0h24v24H0V0z\" fill=\"none\"/>\n",
              "    <path d=\"M18.56 5.44l.94 2.06.94-2.06 2.06-.94-2.06-.94-.94-2.06-.94 2.06-2.06.94zm-11 1L8.5 8.5l.94-2.06 2.06-.94-2.06-.94L8.5 2.5l-.94 2.06-2.06.94zm10 10l.94 2.06.94-2.06 2.06-.94-2.06-.94-.94-2.06-.94 2.06-2.06.94z\"/><path d=\"M17.41 7.96l-1.37-1.37c-.4-.4-.92-.59-1.43-.59-.52 0-1.04.2-1.43.59L10.3 9.45l-7.72 7.72c-.78.78-.78 2.05 0 2.83L4 21.41c.39.39.9.59 1.41.59.51 0 1.02-.2 1.41-.59l7.78-7.78 2.81-2.81c.8-.78.8-2.07 0-2.86zM5.41 20L4 18.59l7.72-7.72 1.47 1.35L5.41 20z\"/>\n",
              "  </svg>\n",
              "      </button>\n",
              "      \n",
              "  <style>\n",
              "    .colab-df-container {\n",
              "      display:flex;\n",
              "      flex-wrap:wrap;\n",
              "      gap: 12px;\n",
              "    }\n",
              "\n",
              "    .colab-df-convert {\n",
              "      background-color: #E8F0FE;\n",
              "      border: none;\n",
              "      border-radius: 50%;\n",
              "      cursor: pointer;\n",
              "      display: none;\n",
              "      fill: #1967D2;\n",
              "      height: 32px;\n",
              "      padding: 0 0 0 0;\n",
              "      width: 32px;\n",
              "    }\n",
              "\n",
              "    .colab-df-convert:hover {\n",
              "      background-color: #E2EBFA;\n",
              "      box-shadow: 0px 1px 2px rgba(60, 64, 67, 0.3), 0px 1px 3px 1px rgba(60, 64, 67, 0.15);\n",
              "      fill: #174EA6;\n",
              "    }\n",
              "\n",
              "    [theme=dark] .colab-df-convert {\n",
              "      background-color: #3B4455;\n",
              "      fill: #D2E3FC;\n",
              "    }\n",
              "\n",
              "    [theme=dark] .colab-df-convert:hover {\n",
              "      background-color: #434B5C;\n",
              "      box-shadow: 0px 1px 3px 1px rgba(0, 0, 0, 0.15);\n",
              "      filter: drop-shadow(0px 1px 2px rgba(0, 0, 0, 0.3));\n",
              "      fill: #FFFFFF;\n",
              "    }\n",
              "  </style>\n",
              "\n",
              "      <script>\n",
              "        const buttonEl =\n",
              "          document.querySelector('#df-617f3380-1c07-49ad-b76a-287202c61c27 button.colab-df-convert');\n",
              "        buttonEl.style.display =\n",
              "          google.colab.kernel.accessAllowed ? 'block' : 'none';\n",
              "\n",
              "        async function convertToInteractive(key) {\n",
              "          const element = document.querySelector('#df-617f3380-1c07-49ad-b76a-287202c61c27');\n",
              "          const dataTable =\n",
              "            await google.colab.kernel.invokeFunction('convertToInteractive',\n",
              "                                                     [key], {});\n",
              "          if (!dataTable) return;\n",
              "\n",
              "          const docLinkHtml = 'Like what you see? Visit the ' +\n",
              "            '<a target=\"_blank\" href=https://colab.research.google.com/notebooks/data_table.ipynb>data table notebook</a>'\n",
              "            + ' to learn more about interactive tables.';\n",
              "          element.innerHTML = '';\n",
              "          dataTable['output_type'] = 'display_data';\n",
              "          await google.colab.output.renderOutput(dataTable, element);\n",
              "          const docLink = document.createElement('div');\n",
              "          docLink.innerHTML = docLinkHtml;\n",
              "          element.appendChild(docLink);\n",
              "        }\n",
              "      </script>\n",
              "    </div>\n",
              "  </div>\n",
              "  "
            ]
          },
          "metadata": {},
          "execution_count": 27
        }
      ]
    },
    {
      "cell_type": "code",
      "source": [
        "print('Shape of the test_data:', test_data.shape,'\\n')"
      ],
      "metadata": {
        "colab": {
          "base_uri": "https://localhost:8080/"
        },
        "outputId": "f0d018cf-9543-452e-ffba-1b20f5556614",
        "id": "bsUunj3ZKvyA"
      },
      "execution_count": 28,
      "outputs": [
        {
          "output_type": "stream",
          "name": "stdout",
          "text": [
            "Shape of the test_data: (16281, 15) \n",
            "\n"
          ]
        }
      ]
    },
    {
      "cell_type": "markdown",
      "source": [
        "### Data Visualization For Testing Data"
      ],
      "metadata": {
        "id": "zuhpDZzHKvyA"
      }
    },
    {
      "cell_type": "code",
      "source": [
        "def dist_plot(X):\n",
        "  plt.figure(figsize=(12,7))\n",
        "  sns.set(palette=\"muted\", color_codes=True)\n",
        "  first_15 = sns.barplot(x=test_data[X].value_counts().index, y=test_data[X].value_counts().values)\n",
        "  plt.xticks(rotation='0', fontsize=14, fontweight='bold')\n",
        "  plt.xlabel(X, fontsize=16, fontweight='bold')\n",
        "  plt.yticks(rotation='0', fontsize=14, fontweight='bold')\n",
        "  plt.ylabel('Count', rotation=0, ha='right', fontsize=14, fontweight='bold')\n",
        "\n",
        "  for patch in first_15.patches:\n",
        "              first_15.annotate(\"%.0f\" % patch.get_height(), (patch.get_x() + patch.get_width() / 2., patch.get_height()),\n",
        "                  ha='center', va='center', fontsize=14, fontweight='bold', color='black', xytext=(0, 5),\n",
        "                  textcoords='offset points')\n",
        "  # plt.grid()\n",
        "  plt.show()"
      ],
      "metadata": {
        "id": "SwYkvVpgKvyA"
      },
      "execution_count": 29,
      "outputs": []
    },
    {
      "cell_type": "code",
      "source": [
        "dist_plot(\"Income\")"
      ],
      "metadata": {
        "colab": {
          "base_uri": "https://localhost:8080/",
          "height": 0
        },
        "outputId": "234cabda-0f23-4f31-83ed-5d6e8f5c31a0",
        "id": "k4YUCmMtKvyB"
      },
      "execution_count": 30,
      "outputs": [
        {
          "output_type": "display_data",
          "data": {
            "text/plain": [
              "<Figure size 864x504 with 1 Axes>"
            ],
            "image/png": "[encoded data removed]"
          },
          "metadata": {}
        }
      ]
    },
    {
      "cell_type": "markdown",
      "source": [
        "### Data Preprocessing For Testing Data"
      ],
      "metadata": {
        "id": "tqItVVCvKvyB"
      }
    },
    {
      "cell_type": "code",
      "source": [
        "# No null or NaN values\n",
        "test_data.isnull().sum()"
      ],
      "metadata": {
        "colab": {
          "base_uri": "https://localhost:8080/"
        },
        "outputId": "9935c961-4b50-4f79-9db2-b8c9e3e3c768",
        "id": "grSq1YjrKvyB"
      },
      "execution_count": 31,
      "outputs": [
        {
          "output_type": "execute_result",
          "data": {
            "text/plain": [
              "Age               0\n",
              "Workclass         0\n",
              "fnlwgt            0\n",
              "Education         0\n",
              "Education-num     0\n",
              "Marital status    0\n",
              "Occupation        0\n",
              "Relationship      0\n",
              "Race              0\n",
              "Sex               0\n",
              "Capital-gain      0\n",
              "Capital-loss      0\n",
              "Hours-per-week    0\n",
              "Native-country    0\n",
              "Income            0\n",
              "dtype: int64"
            ]
          },
          "metadata": {},
          "execution_count": 31
        }
      ]
    },
    {
      "cell_type": "markdown",
      "source": [
        "#### Removing rows with unknown values ('?')\n",
        "\n",
        "> All missing or unknow values, however, are marked with a question mark (?)\n",
        "\n",
        "> There are 3 columns which contain '?' - Workclass, Occupation, Native-country"
      ],
      "metadata": {
        "id": "xZ-g96oMKvyB"
      }
    },
    {
      "cell_type": "code",
      "source": [
        "# Let's start with the Workclass column\n",
        "# We can obtain a list of boolean values indicating whether there is a '?' on the current row\n",
        "test_data[\"Workclass\"].str.contains(\"\\?\").sum()"
      ],
      "metadata": {
        "colab": {
          "base_uri": "https://localhost:8080/"
        },
        "outputId": "7fa6ed63-0624-4d68-c1aa-00933d3e37e0",
        "id": "jV-VYhr3KvyB"
      },
      "execution_count": 32,
      "outputs": [
        {
          "output_type": "execute_result",
          "data": {
            "text/plain": [
              "963"
            ]
          },
          "metadata": {},
          "execution_count": 32
        }
      ]
    },
    {
      "cell_type": "code",
      "source": [
        "# Take the subset of the dataframe rows which don't contain '?'\n",
        "test_data = test_data[test_data[\"Workclass\"].str.contains(\"\\?\") == False]"
      ],
      "metadata": {
        "id": "l6nbD85BKvyB"
      },
      "execution_count": 33,
      "outputs": []
    },
    {
      "cell_type": "code",
      "source": [
        "print('Shape of the test_data:', test_data.shape,'\\n')"
      ],
      "metadata": {
        "colab": {
          "base_uri": "https://localhost:8080/"
        },
        "outputId": "17f8e853-4dfc-4807-82e2-cfcbb6f5e391",
        "id": "FPw66xVgKvyB"
      },
      "execution_count": 34,
      "outputs": [
        {
          "output_type": "stream",
          "name": "stdout",
          "text": [
            "Shape of the test_data: (15318, 15) \n",
            "\n"
          ]
        }
      ]
    },
    {
      "cell_type": "code",
      "source": [
        "# Let's do the same for 'Occupation'\n",
        "test_data = test_data[test_data[\"Occupation\"].str.contains(\"\\?\") == False]"
      ],
      "metadata": {
        "id": "2XA1xEbkKvyB"
      },
      "execution_count": 35,
      "outputs": []
    },
    {
      "cell_type": "code",
      "source": [
        "print('Shape of the test_data:', test_data.shape,'\\n')"
      ],
      "metadata": {
        "colab": {
          "base_uri": "https://localhost:8080/"
        },
        "outputId": "aab67cbc-d4a9-4c16-9e23-fcfb2381e2b0",
        "id": "8dedkXJNKvyB"
      },
      "execution_count": 36,
      "outputs": [
        {
          "output_type": "stream",
          "name": "stdout",
          "text": [
            "Shape of the test_data: (15315, 15) \n",
            "\n"
          ]
        }
      ]
    },
    {
      "cell_type": "code",
      "source": [
        "# And for 'Native-country'\n",
        "test_data = test_data[test_data[\"Native-country\"].str.contains(\"\\?\") == False]"
      ],
      "metadata": {
        "id": "lfQ5igiTKvyB"
      },
      "execution_count": 37,
      "outputs": []
    },
    {
      "cell_type": "code",
      "source": [
        "print('Shape of the test_data:', test_data.shape,'\\n')"
      ],
      "metadata": {
        "colab": {
          "base_uri": "https://localhost:8080/"
        },
        "outputId": "4b902c71-1940-4404-a896-83de33c09661",
        "id": "bXOSW_ueKvyC"
      },
      "execution_count": 38,
      "outputs": [
        {
          "output_type": "stream",
          "name": "stdout",
          "text": [
            "Shape of the test_data: (15060, 15) \n",
            "\n"
          ]
        }
      ]
    },
    {
      "cell_type": "code",
      "source": [
        "# Finally, let's reset the index\n",
        "test_data = test_data.reset_index(drop=True)"
      ],
      "metadata": {
        "id": "CZ8IaJ3SKvyC"
      },
      "execution_count": 39,
      "outputs": []
    },
    {
      "cell_type": "markdown",
      "source": [
        "#### Creating dummy variables and separating inputs and targets\n",
        "\n",
        " - In the original data, there are both categorical and numerical data\n",
        " - Decision trees and random forest can work with categorical data in general However, this is not implemented in sklearn So, we need to convert the categorical data to numerical We will do that with one hot encoding"
      ],
      "metadata": {
        "id": "8jSPATgfKvyC"
      }
    },
    {
      "cell_type": "code",
      "source": [
        "# Pandas can automatically do that for us with '.get_dummies'\n",
        "test_data = pd.get_dummies(test_data, drop_first=False)"
      ],
      "metadata": {
        "id": "MpPnRQqQKvyC"
      },
      "execution_count": 40,
      "outputs": []
    },
    {
      "cell_type": "code",
      "source": [
        "test_data.head()"
      ],
      "metadata": {
        "colab": {
          "base_uri": "https://localhost:8080/",
          "height": 352
        },
        "outputId": "ac704a3d-f4bf-413e-e1fd-618a016c5722",
        "id": "KhYKP11AKvyC"
      },
      "execution_count": 41,
      "outputs": [
        {
          "output_type": "execute_result",
          "data": {
            "text/plain": [
              "   Age  fnlwgt  Education-num  Capital-gain  Capital-loss  Hours-per-week  \\\n",
              "0   25  226802              7             0             0              40   \n",
              "1   38   89814              9             0             0              50   \n",
              "2   28  336951             12             0             0              40   \n",
              "3   44  160323             10          7688             0              40   \n",
              "4   34  198693              6             0             0              30   \n",
              "\n",
              "   Workclass_ Federal-gov  Workclass_ Local-gov  Workclass_ Private  \\\n",
              "0                       0                     0                   1   \n",
              "1                       0                     0                   1   \n",
              "2                       0                     1                   0   \n",
              "3                       0                     0                   1   \n",
              "4                       0                     0                   1   \n",
              "\n",
              "   Workclass_ Self-emp-inc  ...  Native-country_ Scotland  \\\n",
              "0                        0  ...                         0   \n",
              "1                        0  ...                         0   \n",
              "2                        0  ...                         0   \n",
              "3                        0  ...                         0   \n",
              "4                        0  ...                         0   \n",
              "\n",
              "   Native-country_ South  Native-country_ Taiwan  Native-country_ Thailand  \\\n",
              "0                      0                       0                         0   \n",
              "1                      0                       0                         0   \n",
              "2                      0                       0                         0   \n",
              "3                      0                       0                         0   \n",
              "4                      0                       0                         0   \n",
              "\n",
              "   Native-country_ Trinadad&Tobago  Native-country_ United-States  \\\n",
              "0                                0                              1   \n",
              "1                                0                              1   \n",
              "2                                0                              1   \n",
              "3                                0                              1   \n",
              "4                                0                              1   \n",
              "\n",
              "   Native-country_ Vietnam  Native-country_ Yugoslavia  Income_ <=50K.  \\\n",
              "0                        0                           0               1   \n",
              "1                        0                           0               1   \n",
              "2                        0                           0               0   \n",
              "3                        0                           0               0   \n",
              "4                        0                           0               1   \n",
              "\n",
              "   Income_ >50K.  \n",
              "0              0  \n",
              "1              0  \n",
              "2              1  \n",
              "3              1  \n",
              "4              0  \n",
              "\n",
              "[5 rows x 105 columns]"
            ],
            "text/html": [
              "\n",
              "  <div id=\"df-b458f147-772b-497c-ae37-7599b885dbd5\">\n",
              "    <div class=\"colab-df-container\">\n",
              "      <div>\n",
              "<style scoped>\n",
              "    .dataframe tbody tr th:only-of-type {\n",
              "        vertical-align: middle;\n",
              "    }\n",
              "\n",
              "    .dataframe tbody tr th {\n",
              "        vertical-align: top;\n",
              "    }\n",
              "\n",
              "    .dataframe thead th {\n",
              "        text-align: right;\n",
              "    }\n",
              "</style>\n",
              "<table border=\"1\" class=\"dataframe\">\n",
              "  <thead>\n",
              "    <tr style=\"text-align: right;\">\n",
              "      <th></th>\n",
              "      <th>Age</th>\n",
              "      <th>fnlwgt</th>\n",
              "      <th>Education-num</th>\n",
              "      <th>Capital-gain</th>\n",
              "      <th>Capital-loss</th>\n",
              "      <th>Hours-per-week</th>\n",
              "      <th>Workclass_ Federal-gov</th>\n",
              "      <th>Workclass_ Local-gov</th>\n",
              "      <th>Workclass_ Private</th>\n",
              "      <th>Workclass_ Self-emp-inc</th>\n",
              "      <th>...</th>\n",
              "      <th>Native-country_ Scotland</th>\n",
              "      <th>Native-country_ South</th>\n",
              "      <th>Native-country_ Taiwan</th>\n",
              "      <th>Native-country_ Thailand</th>\n",
              "      <th>Native-country_ Trinadad&amp;Tobago</th>\n",
              "      <th>Native-country_ United-States</th>\n",
              "      <th>Native-country_ Vietnam</th>\n",
              "      <th>Native-country_ Yugoslavia</th>\n",
              "      <th>Income_ &lt;=50K.</th>\n",
              "      <th>Income_ &gt;50K.</th>\n",
              "    </tr>\n",
              "  </thead>\n",
              "  <tbody>\n",
              "    <tr>\n",
              "      <th>0</th>\n",
              "      <td>25</td>\n",
              "      <td>226802</td>\n",
              "      <td>7</td>\n",
              "      <td>0</td>\n",
              "      <td>0</td>\n",
              "      <td>40</td>\n",
              "      <td>0</td>\n",
              "      <td>0</td>\n",
              "      <td>1</td>\n",
              "      <td>0</td>\n",
              "      <td>...</td>\n",
              "      <td>0</td>\n",
              "      <td>0</td>\n",
              "      <td>0</td>\n",
              "      <td>0</td>\n",
              "      <td>0</td>\n",
              "      <td>1</td>\n",
              "      <td>0</td>\n",
              "      <td>0</td>\n",
              "      <td>1</td>\n",
              "      <td>0</td>\n",
              "    </tr>\n",
              "    <tr>\n",
              "      <th>1</th>\n",
              "      <td>38</td>\n",
              "      <td>89814</td>\n",
              "      <td>9</td>\n",
              "      <td>0</td>\n",
              "      <td>0</td>\n",
              "      <td>50</td>\n",
              "      <td>0</td>\n",
              "      <td>0</td>\n",
              "      <td>1</td>\n",
              "      <td>0</td>\n",
              "      <td>...</td>\n",
              "      <td>0</td>\n",
              "      <td>0</td>\n",
              "      <td>0</td>\n",
              "      <td>0</td>\n",
              "      <td>0</td>\n",
              "      <td>1</td>\n",
              "      <td>0</td>\n",
              "      <td>0</td>\n",
              "      <td>1</td>\n",
              "      <td>0</td>\n",
              "    </tr>\n",
              "    <tr>\n",
              "      <th>2</th>\n",
              "      <td>28</td>\n",
              "      <td>336951</td>\n",
              "      <td>12</td>\n",
              "      <td>0</td>\n",
              "      <td>0</td>\n",
              "      <td>40</td>\n",
              "      <td>0</td>\n",
              "      <td>1</td>\n",
              "      <td>0</td>\n",
              "      <td>0</td>\n",
              "      <td>...</td>\n",
              "      <td>0</td>\n",
              "      <td>0</td>\n",
              "      <td>0</td>\n",
              "      <td>0</td>\n",
              "      <td>0</td>\n",
              "      <td>1</td>\n",
              "      <td>0</td>\n",
              "      <td>0</td>\n",
              "      <td>0</td>\n",
              "      <td>1</td>\n",
              "    </tr>\n",
              "    <tr>\n",
              "      <th>3</th>\n",
              "      <td>44</td>\n",
              "      <td>160323</td>\n",
              "      <td>10</td>\n",
              "      <td>7688</td>\n",
              "      <td>0</td>\n",
              "      <td>40</td>\n",
              "      <td>0</td>\n",
              "      <td>0</td>\n",
              "      <td>1</td>\n",
              "      <td>0</td>\n",
              "      <td>...</td>\n",
              "      <td>0</td>\n",
              "      <td>0</td>\n",
              "      <td>0</td>\n",
              "      <td>0</td>\n",
              "      <td>0</td>\n",
              "      <td>1</td>\n",
              "      <td>0</td>\n",
              "      <td>0</td>\n",
              "      <td>0</td>\n",
              "      <td>1</td>\n",
              "    </tr>\n",
              "    <tr>\n",
              "      <th>4</th>\n",
              "      <td>34</td>\n",
              "      <td>198693</td>\n",
              "      <td>6</td>\n",
              "      <td>0</td>\n",
              "      <td>0</td>\n",
              "      <td>30</td>\n",
              "      <td>0</td>\n",
              "      <td>0</td>\n",
              "      <td>1</td>\n",
              "      <td>0</td>\n",
              "      <td>...</td>\n",
              "      <td>0</td>\n",
              "      <td>0</td>\n",
              "      <td>0</td>\n",
              "      <td>0</td>\n",
              "      <td>0</td>\n",
              "      <td>1</td>\n",
              "      <td>0</td>\n",
              "      <td>0</td>\n",
              "      <td>1</td>\n",
              "      <td>0</td>\n",
              "    </tr>\n",
              "  </tbody>\n",
              "</table>\n",
              "<p>5 rows × 105 columns</p>\n",
              "</div>\n",
              "      <button class=\"colab-df-convert\" onclick=\"convertToInteractive('df-b458f147-772b-497c-ae37-7599b885dbd5')\"\n",
              "              title=\"Convert this dataframe to an interactive table.\"\n",
              "              style=\"display:none;\">\n",
              "        \n",
              "  <svg xmlns=\"http://www.w3.org/2000/svg\" height=\"24px\"viewBox=\"0 0 24 24\"\n",
              "       width=\"24px\">\n",
              "    <path d=\"M0 0h24v24H0V0z\" fill=\"none\"/>\n",
              "    <path d=\"M18.56 5.44l.94 2.06.94-2.06 2.06-.94-2.06-.94-.94-2.06-.94 2.06-2.06.94zm-11 1L8.5 8.5l.94-2.06 2.06-.94-2.06-.94L8.5 2.5l-.94 2.06-2.06.94zm10 10l.94 2.06.94-2.06 2.06-.94-2.06-.94-.94-2.06-.94 2.06-2.06.94z\"/><path d=\"M17.41 7.96l-1.37-1.37c-.4-.4-.92-.59-1.43-.59-.52 0-1.04.2-1.43.59L10.3 9.45l-7.72 7.72c-.78.78-.78 2.05 0 2.83L4 21.41c.39.39.9.59 1.41.59.51 0 1.02-.2 1.41-.59l7.78-7.78 2.81-2.81c.8-.78.8-2.07 0-2.86zM5.41 20L4 18.59l7.72-7.72 1.47 1.35L5.41 20z\"/>\n",
              "  </svg>\n",
              "      </button>\n",
              "      \n",
              "  <style>\n",
              "    .colab-df-container {\n",
              "      display:flex;\n",
              "      flex-wrap:wrap;\n",
              "      gap: 12px;\n",
              "    }\n",
              "\n",
              "    .colab-df-convert {\n",
              "      background-color: #E8F0FE;\n",
              "      border: none;\n",
              "      border-radius: 50%;\n",
              "      cursor: pointer;\n",
              "      display: none;\n",
              "      fill: #1967D2;\n",
              "      height: 32px;\n",
              "      padding: 0 0 0 0;\n",
              "      width: 32px;\n",
              "    }\n",
              "\n",
              "    .colab-df-convert:hover {\n",
              "      background-color: #E2EBFA;\n",
              "      box-shadow: 0px 1px 2px rgba(60, 64, 67, 0.3), 0px 1px 3px 1px rgba(60, 64, 67, 0.15);\n",
              "      fill: #174EA6;\n",
              "    }\n",
              "\n",
              "    [theme=dark] .colab-df-convert {\n",
              "      background-color: #3B4455;\n",
              "      fill: #D2E3FC;\n",
              "    }\n",
              "\n",
              "    [theme=dark] .colab-df-convert:hover {\n",
              "      background-color: #434B5C;\n",
              "      box-shadow: 0px 1px 3px 1px rgba(0, 0, 0, 0.15);\n",
              "      filter: drop-shadow(0px 1px 2px rgba(0, 0, 0, 0.3));\n",
              "      fill: #FFFFFF;\n",
              "    }\n",
              "  </style>\n",
              "\n",
              "      <script>\n",
              "        const buttonEl =\n",
              "          document.querySelector('#df-b458f147-772b-497c-ae37-7599b885dbd5 button.colab-df-convert');\n",
              "        buttonEl.style.display =\n",
              "          google.colab.kernel.accessAllowed ? 'block' : 'none';\n",
              "\n",
              "        async function convertToInteractive(key) {\n",
              "          const element = document.querySelector('#df-b458f147-772b-497c-ae37-7599b885dbd5');\n",
              "          const dataTable =\n",
              "            await google.colab.kernel.invokeFunction('convertToInteractive',\n",
              "                                                     [key], {});\n",
              "          if (!dataTable) return;\n",
              "\n",
              "          const docLinkHtml = 'Like what you see? Visit the ' +\n",
              "            '<a target=\"_blank\" href=https://colab.research.google.com/notebooks/data_table.ipynb>data table notebook</a>'\n",
              "            + ' to learn more about interactive tables.';\n",
              "          element.innerHTML = '';\n",
              "          dataTable['output_type'] = 'display_data';\n",
              "          await google.colab.output.renderOutput(dataTable, element);\n",
              "          const docLink = document.createElement('div');\n",
              "          docLink.innerHTML = docLinkHtml;\n",
              "          element.appendChild(docLink);\n",
              "        }\n",
              "      </script>\n",
              "    </div>\n",
              "  </div>\n",
              "  "
            ]
          },
          "metadata": {},
          "execution_count": 41
        }
      ]
    },
    {
      "cell_type": "code",
      "source": [
        "# The last 2 columns are whether the income <= 50k and whether it is >50k\n",
        "# Both of these carry the same information, so we will remove one of them\n",
        "test_data = test_data.drop(['Income_ <=50K.'],axis=1)"
      ],
      "metadata": {
        "id": "it-JDlkFKvyC"
      },
      "execution_count": 43,
      "outputs": []
    },
    {
      "cell_type": "code",
      "source": [
        "print('Shape of the test_data:', test_data.shape,'\\n')"
      ],
      "metadata": {
        "colab": {
          "base_uri": "https://localhost:8080/"
        },
        "outputId": "35e527af-a5c5-47ef-9e49-e4d9ea530b2f",
        "id": "rXsVpbXfKvyC"
      },
      "execution_count": 44,
      "outputs": [
        {
          "output_type": "stream",
          "name": "stdout",
          "text": [
            "Shape of the test_data: (15060, 104) \n",
            "\n"
          ]
        }
      ]
    },
    {
      "cell_type": "markdown",
      "source": [
        "### split the data into `[train_input, train_target]` For Testing Data"
      ],
      "metadata": {
        "id": "4DBlwTaIKvyD"
      }
    },
    {
      "cell_type": "code",
      "source": [
        "# The input features are everything besides the last column\n",
        "test_input = test_data.iloc[:,:-1]\n",
        "\n",
        "# The target/output is just the last column\n",
        "test_target = test_data.iloc[:,-1]"
      ],
      "metadata": {
        "id": "-K9e_qbiKvyD"
      },
      "execution_count": 45,
      "outputs": []
    },
    {
      "cell_type": "code",
      "source": [
        "print('Shape of the test_input:', test_input.shape,'\\n')\n",
        "print('Shape of the test_target:', test_target.shape,'\\n')"
      ],
      "metadata": {
        "colab": {
          "base_uri": "https://localhost:8080/"
        },
        "outputId": "a31eb1f6-8c15-42d5-86cc-be1f8832b063",
        "id": "_ruJYCSUKvyD"
      },
      "execution_count": 46,
      "outputs": [
        {
          "output_type": "stream",
          "name": "stdout",
          "text": [
            "Shape of the test_input: (15060, 103) \n",
            "\n",
            "Shape of the test_target: (15060,) \n",
            "\n"
          ]
        }
      ]
    },
    {
      "cell_type": "code",
      "source": [],
      "metadata": {
        "id": "xH9TT0FhKvyD"
      },
      "execution_count": 46,
      "outputs": []
    },
    {
      "cell_type": "markdown",
      "source": [
        "# Decision Tree Model"
      ],
      "metadata": {
        "id": "ZRAZtUTMNJ9a"
      }
    },
    {
      "cell_type": "markdown",
      "source": [
        "## Trail_1: Create the tree without pruning"
      ],
      "metadata": {
        "id": "Rc4BSOePOrgx"
      }
    },
    {
      "cell_type": "markdown",
      "source": [
        "### Creating and Training the model"
      ],
      "metadata": {
        "id": "cGVPnI5m24fr"
      }
    },
    {
      "cell_type": "code",
      "source": [
        "# Define the model as a decision tree classifier\n",
        "clf = DecisionTreeClassifier()"
      ],
      "metadata": {
        "id": "5uqV6mDg2zLN"
      },
      "execution_count": 48,
      "outputs": []
    },
    {
      "cell_type": "code",
      "source": [
        "# Train the model\n",
        "clf.fit(train_input,train_target)"
      ],
      "metadata": {
        "id": "ApN6hFfq26qV",
        "colab": {
          "base_uri": "https://localhost:8080/"
        },
        "outputId": "b405809b-4aa8-49fa-9916-9beb60aebd19"
      },
      "execution_count": 49,
      "outputs": [
        {
          "output_type": "execute_result",
          "data": {
            "text/plain": [
              "DecisionTreeClassifier()"
            ]
          },
          "metadata": {},
          "execution_count": 49
        }
      ]
    },
    {
      "cell_type": "code",
      "source": [
        "#test the accuracy of model on training set\n",
        "print('D_Tree Train Score is : ' , clf.score(train_input, train_target))"
      ],
      "metadata": {
        "colab": {
          "base_uri": "https://localhost:8080/"
        },
        "id": "inb4tTg13ZTE",
        "outputId": "9d971e36-7eaa-443d-8e19-6282c8c238fa"
      },
      "execution_count": 50,
      "outputs": [
        {
          "output_type": "stream",
          "name": "stdout",
          "text": [
            "D_Tree Train Score is :  0.9999668192978963\n"
          ]
        }
      ]
    },
    {
      "cell_type": "markdown",
      "source": [
        "### Plot The Tree"
      ],
      "metadata": {
        "id": "DHU1wKDN887R"
      }
    },
    {
      "cell_type": "code",
      "source": [
        "# Plot the tree\n",
        "plt.figure(figsize=(10,10))\n",
        "plot_tree(clf, filled=True)\n",
        "plt.show()\n"
      ],
      "metadata": {
        "colab": {
          "base_uri": "https://localhost:8080/",
          "height": 575
        },
        "id": "oPTeF2yON5Wx",
        "outputId": "75745fd3-d5d2-4992-bb88-45bb6dfef323"
      },
      "execution_count": 52,
      "outputs": [
        {
          "output_type": "display_data",
          "data": {
            "text/plain": [
              "<Figure size 720x720 with 1 Axes>"
            ],
            "image/png": "[encoded data removed]"
          },
          "metadata": {}
        }
      ]
    },
    {
      "cell_type": "markdown",
      "source": [
        " > This picture is very complicated indicating a tree with enormous proportions\n",
        " \n",
        " > This indicates a high probability that the model has overfitted"
      ],
      "metadata": {
        "id": "YyVHw7dDN_vx"
      }
    },
    {
      "cell_type": "markdown",
      "source": [
        "### Make predictions on the test dataset"
      ],
      "metadata": {
        "id": "x1H6Tjt97uYq"
      }
    },
    {
      "cell_type": "code",
      "source": [
        "# get the predictions based on the test inputs\n",
        "test_pred = clf.predict(test_input)\n",
        "print('Shape of the test_pred:', test_pred.shape)"
      ],
      "metadata": {
        "colab": {
          "base_uri": "https://localhost:8080/"
        },
        "id": "38NiY3zM7wF8",
        "outputId": "0c901ab4-06dc-44a2-ca1c-48d8b5a1c293"
      },
      "execution_count": 53,
      "outputs": [
        {
          "output_type": "stream",
          "name": "stdout",
          "text": [
            "Shape of the test_pred: (15060,)\n"
          ]
        }
      ]
    },
    {
      "cell_type": "markdown",
      "source": [
        "### Construct the confusion matrix"
      ],
      "metadata": {
        "id": "j8lqjI0570hx"
      }
    },
    {
      "cell_type": "code",
      "source": [
        "sns.reset_orig()\n",
        "\n",
        "ConfusionMatrixDisplay.from_predictions(\n",
        "    test_target, test_pred,\n",
        "    labels = clf.classes_,\n",
        "    cmap = 'magma'\n",
        ");"
      ],
      "metadata": {
        "colab": {
          "base_uri": "https://localhost:8080/",
          "height": 279
        },
        "id": "-58-VMD-70Sx",
        "outputId": "708709bb-eecb-4dd2-914d-6718e6614dd4"
      },
      "execution_count": 54,
      "outputs": [
        {
          "output_type": "display_data",
          "data": {
            "text/plain": [
              "<Figure size 432x288 with 2 Axes>"
            ],
            "image/png": "[encoded data removed]"
          },
          "metadata": {
            "needs_background": "light"
          }
        }
      ]
    },
    {
      "cell_type": "markdown",
      "source": [
        "### classification report"
      ],
      "metadata": {
        "id": "axBYFlHU9N2K"
      }
    },
    {
      "cell_type": "code",
      "source": [
        "# print the metrics obtained from the real targets and our model's predictions\n",
        "print(classification_report(test_target, test_pred))"
      ],
      "metadata": {
        "colab": {
          "base_uri": "https://localhost:8080/"
        },
        "id": "aQu6VIUP8God",
        "outputId": "28ae1ba9-a7ca-4151-eb12-c3a12edf3f3a"
      },
      "execution_count": 55,
      "outputs": [
        {
          "output_type": "stream",
          "name": "stdout",
          "text": [
            "              precision    recall  f1-score   support\n",
            "\n",
            "           0       0.88      0.87      0.87     11360\n",
            "           1       0.60      0.62      0.61      3700\n",
            "\n",
            "    accuracy                           0.81     15060\n",
            "   macro avg       0.74      0.74      0.74     15060\n",
            "weighted avg       0.81      0.81      0.81     15060\n",
            "\n"
          ]
        }
      ]
    },
    {
      "cell_type": "markdown",
      "source": [
        "## Trail_2: Create the tree with pruning"
      ],
      "metadata": {
        "id": "eVnI6JQAOvY8"
      }
    },
    {
      "cell_type": "markdown",
      "source": [
        "### Creating and Training the model"
      ],
      "metadata": {
        "id": "SMXrlSNbOvY8"
      }
    },
    {
      "cell_type": "code",
      "source": [
        "# Define the model as a decision tree classifier with pruning in order to avoid overfitting\n",
        "# The value of 0.001 for the pruning seems like a good spot for this particular model\n",
        "clf = DecisionTreeClassifier(ccp_alpha=0.001)"
      ],
      "metadata": {
        "id": "3SWB8kBtOvY8"
      },
      "execution_count": 56,
      "outputs": []
    },
    {
      "cell_type": "code",
      "source": [
        "# Train the model\n",
        "clf.fit(train_input,train_target)"
      ],
      "metadata": {
        "colab": {
          "base_uri": "https://localhost:8080/"
        },
        "outputId": "022940e8-586f-4097-e736-0106194d926a",
        "id": "jTNOBxA9OvY8"
      },
      "execution_count": 57,
      "outputs": [
        {
          "output_type": "execute_result",
          "data": {
            "text/plain": [
              "DecisionTreeClassifier(ccp_alpha=0.001)"
            ]
          },
          "metadata": {},
          "execution_count": 57
        }
      ]
    },
    {
      "cell_type": "code",
      "source": [
        "#test the accuracy of model on training set\n",
        "print('D_Tree Train Score is : ' , clf.score(train_input, train_target))"
      ],
      "metadata": {
        "colab": {
          "base_uri": "https://localhost:8080/"
        },
        "outputId": "7f19ec4d-f56e-409b-a6a6-4bb3a90bd57e",
        "id": "8Osy2Ws8OvY8"
      },
      "execution_count": 58,
      "outputs": [
        {
          "output_type": "stream",
          "name": "stdout",
          "text": [
            "D_Tree Train Score is :  0.8478996615568385\n"
          ]
        }
      ]
    },
    {
      "cell_type": "markdown",
      "source": [
        "### Plot The Tree"
      ],
      "metadata": {
        "id": "TgoR7IfxOvY8"
      }
    },
    {
      "cell_type": "code",
      "source": [
        "# Plot the tree\n",
        "plt.figure(figsize=(10,10))\n",
        "plot_tree(clf, filled=True)\n",
        "plt.show()\n"
      ],
      "metadata": {
        "colab": {
          "base_uri": "https://localhost:8080/",
          "height": 575
        },
        "id": "9SraR8z2OvY8",
        "outputId": "b80132b1-fc24-460a-de68-9799d3cecb38"
      },
      "execution_count": 59,
      "outputs": [
        {
          "output_type": "display_data",
          "data": {
            "text/plain": [
              "<Figure size 720x720 with 1 Axes>"
            ],
            "image/png": "[encoded data removed]"
          },
          "metadata": {
            "needs_background": "light"
          }
        }
      ]
    },
    {
      "cell_type": "markdown",
      "source": [
        "> This time th tree looks much more managable"
      ],
      "metadata": {
        "id": "QuJXkq0eOvY9"
      }
    },
    {
      "cell_type": "markdown",
      "source": [
        "### Make predictions on the test dataset"
      ],
      "metadata": {
        "id": "ybhf5Oc3OvY9"
      }
    },
    {
      "cell_type": "code",
      "source": [
        "# get the predictions based on the test inputs\n",
        "test_pred = clf.predict(test_input)\n",
        "print('Shape of the test_pred:', test_pred.shape)"
      ],
      "metadata": {
        "colab": {
          "base_uri": "https://localhost:8080/"
        },
        "id": "BbGLkfFrOvY9",
        "outputId": "45d111aa-6132-4783-9ba2-788eeaff4bab"
      },
      "execution_count": 60,
      "outputs": [
        {
          "output_type": "stream",
          "name": "stdout",
          "text": [
            "Shape of the test_pred: (15060,)\n"
          ]
        }
      ]
    },
    {
      "cell_type": "markdown",
      "source": [
        "### Construct the confusion matrix"
      ],
      "metadata": {
        "id": "9X1W-saoOvY9"
      }
    },
    {
      "cell_type": "code",
      "source": [
        "sns.reset_orig()\n",
        "\n",
        "ConfusionMatrixDisplay.from_predictions(\n",
        "    test_target, test_pred,\n",
        "    labels = clf.classes_,\n",
        "    cmap = 'magma'\n",
        ");"
      ],
      "metadata": {
        "colab": {
          "base_uri": "https://localhost:8080/",
          "height": 279
        },
        "id": "V1fP1bhgOvY9",
        "outputId": "fb17fb7b-0f40-4cbc-fef5-a58143b76439"
      },
      "execution_count": 61,
      "outputs": [
        {
          "output_type": "display_data",
          "data": {
            "text/plain": [
              "<Figure size 432x288 with 2 Axes>"
            ],
            "image/png": "[encoded data removed]"
          },
          "metadata": {
            "needs_background": "light"
          }
        }
      ]
    },
    {
      "cell_type": "markdown",
      "source": [
        "### classification report"
      ],
      "metadata": {
        "id": "mzx5u6yLOvY9"
      }
    },
    {
      "cell_type": "code",
      "source": [
        "# print the metrics obtained from the real targets and our model's predictions\n",
        "print(classification_report(test_target, test_pred))"
      ],
      "metadata": {
        "colab": {
          "base_uri": "https://localhost:8080/"
        },
        "id": "1C7sEA1-OvY9",
        "outputId": "6d79a7e8-341f-4816-f63d-382be0619e4e"
      },
      "execution_count": 62,
      "outputs": [
        {
          "output_type": "stream",
          "name": "stdout",
          "text": [
            "              precision    recall  f1-score   support\n",
            "\n",
            "           0       0.86      0.96      0.90     11360\n",
            "           1       0.79      0.51      0.62      3700\n",
            "\n",
            "    accuracy                           0.85     15060\n",
            "   macro avg       0.82      0.73      0.76     15060\n",
            "weighted avg       0.84      0.85      0.83     15060\n",
            "\n"
          ]
        }
      ]
    },
    {
      "cell_type": "markdown",
      "source": [
        "## Observation\n",
        "> The accuracy jumped from 80% to 85% after pruning\n",
        "\n",
        "> This confirms our suspicions that the first tree has overfitted"
      ],
      "metadata": {
        "id": "4cC-eHPlPX8_"
      }
    },
    {
      "cell_type": "markdown",
      "source": [
        "# RandomForestClassifier Model"
      ],
      "metadata": {
        "id": "q4AX5BYWPSXF"
      }
    },
    {
      "cell_type": "markdown",
      "source": [
        "## Trail_1: Create the basic model"
      ],
      "metadata": {
        "id": "Q5IhhPcvPSXF"
      }
    },
    {
      "cell_type": "markdown",
      "source": [
        "### Creating and Training the model"
      ],
      "metadata": {
        "id": "9OiP__kCPSXG"
      }
    },
    {
      "cell_type": "code",
      "source": [
        "# Initialize the model as a random forest classifier\n",
        "clf = RandomForestClassifier()"
      ],
      "metadata": {
        "id": "BfnlaXJZPSXG"
      },
      "execution_count": 63,
      "outputs": []
    },
    {
      "cell_type": "code",
      "source": [
        "# Train the model\n",
        "clf.fit(train_input,train_target)"
      ],
      "metadata": {
        "colab": {
          "base_uri": "https://localhost:8080/"
        },
        "outputId": "d671c53a-e787-4fa3-a68f-7ab98125ec1f",
        "id": "pZ8jSijZPSXG"
      },
      "execution_count": 64,
      "outputs": [
        {
          "output_type": "execute_result",
          "data": {
            "text/plain": [
              "RandomForestClassifier()"
            ]
          },
          "metadata": {},
          "execution_count": 64
        }
      ]
    },
    {
      "cell_type": "code",
      "source": [
        "#test the accuracy of model on training set\n",
        "print('RandomForest Train Score is : ' , clf.score(train_input, train_target))"
      ],
      "metadata": {
        "colab": {
          "base_uri": "https://localhost:8080/"
        },
        "outputId": "ec5e290e-6c87-490f-f583-5be6836030ba",
        "id": "64hRSinSPSXG"
      },
      "execution_count": 65,
      "outputs": [
        {
          "output_type": "stream",
          "name": "stdout",
          "text": [
            "RandomForest Train Score is :  0.999900457893689\n"
          ]
        }
      ]
    },
    {
      "cell_type": "markdown",
      "source": [
        "### Make predictions on the test dataset"
      ],
      "metadata": {
        "id": "LypJPhCOPSXG"
      }
    },
    {
      "cell_type": "code",
      "source": [
        "# get the predictions based on the test inputs\n",
        "test_pred = clf.predict(test_input)\n",
        "print('Shape of the test_pred:', test_pred.shape)"
      ],
      "metadata": {
        "colab": {
          "base_uri": "https://localhost:8080/"
        },
        "outputId": "b88e5813-ef71-4498-b6eb-2300cbc7e3ac",
        "id": "WjQI20e7PSXH"
      },
      "execution_count": 66,
      "outputs": [
        {
          "output_type": "stream",
          "name": "stdout",
          "text": [
            "Shape of the test_pred: (15060,)\n"
          ]
        }
      ]
    },
    {
      "cell_type": "markdown",
      "source": [
        "### Construct the confusion matrix"
      ],
      "metadata": {
        "id": "4vkpSGeePSXH"
      }
    },
    {
      "cell_type": "code",
      "source": [
        "sns.reset_orig()\n",
        "\n",
        "ConfusionMatrixDisplay.from_predictions(\n",
        "    test_target, test_pred,\n",
        "    labels = clf.classes_,\n",
        "    cmap = 'magma'\n",
        ");"
      ],
      "metadata": {
        "colab": {
          "base_uri": "https://localhost:8080/",
          "height": 279
        },
        "outputId": "44b82d41-438d-4da6-8821-60d46951fefb",
        "id": "KEFgzwp6PSXH"
      },
      "execution_count": 67,
      "outputs": [
        {
          "output_type": "display_data",
          "data": {
            "text/plain": [
              "<Figure size 432x288 with 2 Axes>"
            ],
            "image/png": "[encoded data removed]"
          },
          "metadata": {
            "needs_background": "light"
          }
        }
      ]
    },
    {
      "cell_type": "markdown",
      "source": [
        "### classification report"
      ],
      "metadata": {
        "id": "g8hN0MD-PSXH"
      }
    },
    {
      "cell_type": "code",
      "source": [
        "# print the metrics obtained from the real targets and our model's predictions\n",
        "print(classification_report(test_target, test_pred))"
      ],
      "metadata": {
        "colab": {
          "base_uri": "https://localhost:8080/"
        },
        "outputId": "736ac598-73cf-4140-9fcb-5b57fc1da15b",
        "id": "wcz-gNhrPSXH"
      },
      "execution_count": 68,
      "outputs": [
        {
          "output_type": "stream",
          "name": "stdout",
          "text": [
            "              precision    recall  f1-score   support\n",
            "\n",
            "           0       0.88      0.92      0.90     11360\n",
            "           1       0.72      0.62      0.66      3700\n",
            "\n",
            "    accuracy                           0.85     15060\n",
            "   macro avg       0.80      0.77      0.78     15060\n",
            "weighted avg       0.84      0.85      0.84     15060\n",
            "\n"
          ]
        }
      ]
    },
    {
      "cell_type": "markdown",
      "source": [
        "## Trail_2: Create the model with `n_estimators = 150`"
      ],
      "metadata": {
        "id": "HE-cpxhrQfH9"
      }
    },
    {
      "cell_type": "markdown",
      "source": [
        "### Creating and Training the model"
      ],
      "metadata": {
        "id": "8I_ieEu0QfH9"
      }
    },
    {
      "cell_type": "code",
      "source": [
        "# Initialize the model as a random forest classifier\n",
        "clf = RandomForestClassifier(n_estimators = 150)"
      ],
      "metadata": {
        "id": "tbVfy1LNQfH9"
      },
      "execution_count": 69,
      "outputs": []
    },
    {
      "cell_type": "code",
      "source": [
        "# Train the model\n",
        "clf.fit(train_input,train_target)"
      ],
      "metadata": {
        "colab": {
          "base_uri": "https://localhost:8080/"
        },
        "outputId": "fc570577-8d05-4ab5-a1ad-d13b5a8d35a5",
        "id": "bEnJwZq-QfH9"
      },
      "execution_count": 70,
      "outputs": [
        {
          "output_type": "execute_result",
          "data": {
            "text/plain": [
              "RandomForestClassifier(n_estimators=150)"
            ]
          },
          "metadata": {},
          "execution_count": 70
        }
      ]
    },
    {
      "cell_type": "code",
      "source": [
        "#test the accuracy of model on training set\n",
        "print('RandomForest Train Score is : ' , clf.score(train_input, train_target))"
      ],
      "metadata": {
        "colab": {
          "base_uri": "https://localhost:8080/"
        },
        "outputId": "725a7c76-752f-4cbb-9e82-9841a62e379e",
        "id": "RO-tVf0XQfH9"
      },
      "execution_count": 71,
      "outputs": [
        {
          "output_type": "stream",
          "name": "stdout",
          "text": [
            "RandomForest Train Score is :  0.9999668192978963\n"
          ]
        }
      ]
    },
    {
      "cell_type": "markdown",
      "source": [
        "### Make predictions on the test dataset"
      ],
      "metadata": {
        "id": "-DRYpovbQfH9"
      }
    },
    {
      "cell_type": "code",
      "source": [
        "# get the predictions based on the test inputs\n",
        "test_pred = clf.predict(test_input)\n",
        "print('Shape of the test_pred:', test_pred.shape)"
      ],
      "metadata": {
        "colab": {
          "base_uri": "https://localhost:8080/"
        },
        "outputId": "1f584a5e-da6a-4cef-b1f9-515f5c2fb7e5",
        "id": "wpImsNptQfH9"
      },
      "execution_count": 72,
      "outputs": [
        {
          "output_type": "stream",
          "name": "stdout",
          "text": [
            "Shape of the test_pred: (15060,)\n"
          ]
        }
      ]
    },
    {
      "cell_type": "markdown",
      "source": [
        "### Construct the confusion matrix"
      ],
      "metadata": {
        "id": "8lsq2GX8QfH-"
      }
    },
    {
      "cell_type": "code",
      "source": [
        "sns.reset_orig()\n",
        "\n",
        "ConfusionMatrixDisplay.from_predictions(\n",
        "    test_target, test_pred,\n",
        "    labels = clf.classes_,\n",
        "    cmap = 'magma'\n",
        ");"
      ],
      "metadata": {
        "colab": {
          "base_uri": "https://localhost:8080/",
          "height": 279
        },
        "outputId": "0164fbcc-fc60-48ef-9586-204696be45fd",
        "id": "anjm87s9QfH-"
      },
      "execution_count": 73,
      "outputs": [
        {
          "output_type": "display_data",
          "data": {
            "text/plain": [
              "<Figure size 432x288 with 2 Axes>"
            ],
            "image/png": "[encoded data removed]"
          },
          "metadata": {
            "needs_background": "light"
          }
        }
      ]
    },
    {
      "cell_type": "markdown",
      "source": [
        "### classification report"
      ],
      "metadata": {
        "id": "yTUN2c1AQfH-"
      }
    },
    {
      "cell_type": "code",
      "source": [
        "# print the metrics obtained from the real targets and our model's predictions\n",
        "print(classification_report(test_target, test_pred))"
      ],
      "metadata": {
        "colab": {
          "base_uri": "https://localhost:8080/"
        },
        "outputId": "46b4669f-7bde-432a-9fa9-245774087aac",
        "id": "iwRxww2mQfH-"
      },
      "execution_count": 74,
      "outputs": [
        {
          "output_type": "stream",
          "name": "stdout",
          "text": [
            "              precision    recall  f1-score   support\n",
            "\n",
            "           0       0.88      0.92      0.90     11360\n",
            "           1       0.72      0.62      0.66      3700\n",
            "\n",
            "    accuracy                           0.85     15060\n",
            "   macro avg       0.80      0.77      0.78     15060\n",
            "weighted avg       0.84      0.85      0.84     15060\n",
            "\n"
          ]
        }
      ]
    },
    {
      "cell_type": "markdown",
      "source": [
        "> The result is basically the same as before, so the additional trees didn't help at all"
      ],
      "metadata": {
        "id": "oEnTmW4FQttQ"
      }
    },
    {
      "cell_type": "code",
      "source": [],
      "metadata": {
        "id": "Ya5tdetrQu3R"
      },
      "execution_count": null,
      "outputs": []
    },
    {
      "cell_type": "markdown",
      "source": [
        "## Trail_3: Create the model with pruning"
      ],
      "metadata": {
        "id": "W3y7t7zCQxIW"
      }
    },
    {
      "cell_type": "markdown",
      "source": [
        "### Creating and Training the model"
      ],
      "metadata": {
        "id": "clCE1MZdQxIW"
      }
    },
    {
      "cell_type": "code",
      "source": [
        "# Initialize the model as a random forest classifier\n",
        "clf = RandomForestClassifier(ccp_alpha = 0.0001)"
      ],
      "metadata": {
        "id": "XgcpOTwCQxIW"
      },
      "execution_count": 75,
      "outputs": []
    },
    {
      "cell_type": "code",
      "source": [
        "# Train the model\n",
        "clf.fit(train_input,train_target)"
      ],
      "metadata": {
        "colab": {
          "base_uri": "https://localhost:8080/"
        },
        "outputId": "caf18cbb-b007-433d-b606-c057b23bb3ac",
        "id": "LV4BN-lLQxIW"
      },
      "execution_count": 76,
      "outputs": [
        {
          "output_type": "execute_result",
          "data": {
            "text/plain": [
              "RandomForestClassifier(ccp_alpha=0.0001)"
            ]
          },
          "metadata": {},
          "execution_count": 76
        }
      ]
    },
    {
      "cell_type": "code",
      "source": [
        "#test the accuracy of model on training set\n",
        "print('RandomForest Train Score is : ' , clf.score(train_input, train_target))"
      ],
      "metadata": {
        "colab": {
          "base_uri": "https://localhost:8080/"
        },
        "outputId": "56c0c69d-de84-454d-f3f7-5cbbd67ce0af",
        "id": "XbglvukaQxIW"
      },
      "execution_count": 77,
      "outputs": [
        {
          "output_type": "stream",
          "name": "stdout",
          "text": [
            "RandomForest Train Score is :  0.8775300285354038\n"
          ]
        }
      ]
    },
    {
      "cell_type": "markdown",
      "source": [
        "### Make predictions on the test dataset"
      ],
      "metadata": {
        "id": "pbQvVA0wQxIW"
      }
    },
    {
      "cell_type": "code",
      "source": [
        "# get the predictions based on the test inputs\n",
        "test_pred = clf.predict(test_input)\n",
        "print('Shape of the test_pred:', test_pred.shape)"
      ],
      "metadata": {
        "colab": {
          "base_uri": "https://localhost:8080/"
        },
        "outputId": "b2ff08b4-32f3-4d67-a2e3-bc81d298ebf9",
        "id": "i3Bt2PtvQxIX"
      },
      "execution_count": 78,
      "outputs": [
        {
          "output_type": "stream",
          "name": "stdout",
          "text": [
            "Shape of the test_pred: (15060,)\n"
          ]
        }
      ]
    },
    {
      "cell_type": "markdown",
      "source": [
        "### Construct the confusion matrix"
      ],
      "metadata": {
        "id": "qp4wD31XQxIX"
      }
    },
    {
      "cell_type": "code",
      "source": [
        "sns.reset_orig()\n",
        "\n",
        "ConfusionMatrixDisplay.from_predictions(\n",
        "    test_target, test_pred,\n",
        "    labels = clf.classes_,\n",
        "    cmap = 'magma'\n",
        ");"
      ],
      "metadata": {
        "colab": {
          "base_uri": "https://localhost:8080/",
          "height": 279
        },
        "outputId": "a821335e-74c2-402a-c065-fdb0194a2984",
        "id": "FsfhTpI0QxIX"
      },
      "execution_count": 79,
      "outputs": [
        {
          "output_type": "display_data",
          "data": {
            "text/plain": [
              "<Figure size 432x288 with 2 Axes>"
            ],
            "image/png": "[encoded data removed]"
          },
          "metadata": {
            "needs_background": "light"
          }
        }
      ]
    },
    {
      "cell_type": "markdown",
      "source": [
        "### classification report"
      ],
      "metadata": {
        "id": "u7rKUACnQxIX"
      }
    },
    {
      "cell_type": "code",
      "source": [
        "# print the metrics obtained from the real targets and our model's predictions\n",
        "print(classification_report(test_target, test_pred))"
      ],
      "metadata": {
        "colab": {
          "base_uri": "https://localhost:8080/"
        },
        "outputId": "b27f9889-82dd-4e95-8b47-1479d526d4dc",
        "id": "977Bl_U7QxIX"
      },
      "execution_count": 80,
      "outputs": [
        {
          "output_type": "stream",
          "name": "stdout",
          "text": [
            "              precision    recall  f1-score   support\n",
            "\n",
            "           0       0.88      0.94      0.91     11360\n",
            "           1       0.77      0.61      0.68      3700\n",
            "\n",
            "    accuracy                           0.86     15060\n",
            "   macro avg       0.83      0.78      0.80     15060\n",
            "weighted avg       0.85      0.86      0.85     15060\n",
            "\n"
          ]
        }
      ]
    },
    {
      "cell_type": "markdown",
      "source": [
        "> A slight increase in accuracy however it is insignificant\n",
        " This is the limit of the performance on this dataset"
      ],
      "metadata": {
        "id": "Aulxi-m7QxIX"
      }
    },
    {
      "cell_type": "code",
      "source": [],
      "metadata": {
        "id": "B893JUKRQxIX"
      },
      "execution_count": null,
      "outputs": []
    }
  ]
}